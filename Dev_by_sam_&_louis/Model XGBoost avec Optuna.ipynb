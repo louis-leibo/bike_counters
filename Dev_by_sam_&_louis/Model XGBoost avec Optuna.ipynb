{
 "cells": [
  {
   "cell_type": "code",
   "execution_count": 1,
   "metadata": {},
   "outputs": [
    {
     "name": "stderr",
     "output_type": "stream",
     "text": [
      "/Library/Frameworks/Python.framework/Versions/3.12/lib/python3.12/site-packages/tqdm/auto.py:21: TqdmWarning: IProgress not found. Please update jupyter and ipywidgets. See https://ipywidgets.readthedocs.io/en/stable/user_install.html\n",
      "  from .autonotebook import tqdm as notebook_tqdm\n"
     ]
    }
   ],
   "source": [
    "import pandas as pd\n",
    "import numpy as np\n",
    "\n",
    "from skrub import TableVectorizer\n",
    "import xgboost as xgb\n",
    "\n",
    "from xgboost import XGBRegressor\n",
    "\n",
    "from sklearn.pipeline import Pipeline\n",
    "\n",
    "import holidays\n",
    "\n",
    "from datetime import datetime\n",
    "\n",
    "from sklearn.model_selection import RandomizedSearchCV\n",
    "\n",
    "from sklearn.preprocessing import StandardScaler, OneHotEncoder, OrdinalEncoder\n",
    "\n",
    "from sklearn.compose import ColumnTransformer\n",
    "\n",
    "\n",
    "from sklearn.metrics import mean_squared_error\n",
    "\n",
    "from sklearn.model_selection import train_test_split\n",
    "\n",
    "import optuna\n",
    "\n",
    "import datetime\n",
    "\n",
    "from sklearn.model_selection import cross_val_score\n",
    "from sklearn.metrics import make_scorer, mean_squared_error\n",
    "\n"
   ]
  },
  {
   "cell_type": "code",
   "execution_count": 2,
   "metadata": {},
   "outputs": [],
   "source": [
    "# Import the files\n",
    "df_train = pd.read_parquet(\"/Users/louisleibovici/Documents/VS_Code/Bike_counters DSB Project/bike_counters/data/train.parquet\")\n",
    "df_test = pd.read_parquet(\"/Users/louisleibovici/Documents/VS_Code/Bike_counters DSB Project/bike_counters/data/final_test.parquet\")"
   ]
  },
  {
   "cell_type": "code",
   "execution_count": 3,
   "metadata": {},
   "outputs": [],
   "source": [
    "# Add jour ferie data\n",
    "jour_feries = (\n",
    "    pd.read_csv(\n",
    "        \"/Users/louisleibovici/Documents/VS_Code/Bike_counters DSB Project/bike_counters/external_data/jours_feries_metropole.csv\",\n",
    "        date_format=\"%Y%m%d%H\"  # Ensure date format is handled correctly\n",
    "    )\n",
    "    .drop(columns=[\"annee\", \"zone\"])  # Drop unnecessary columns\n",
    ")\n",
    "\n",
    "# Convert 'date' column to datetime\n",
    "jour_feries['date'] = pd.to_datetime(jour_feries['date'])\n",
    "\n",
    "# Filter rows based on the date range of df_train and df_test\n",
    "jour_feries = jour_feries[\n",
    "    (jour_feries[\"date\"] >= df_train[\"date\"].min() - datetime.timedelta(hours=1))\n",
    "    & (jour_feries[\"date\"] <= df_test[\"date\"].max() + datetime.timedelta(hours=1))\n",
    "]"
   ]
  },
  {
   "cell_type": "code",
   "execution_count": 4,
   "metadata": {},
   "outputs": [],
   "source": [
    "# Add mouvements sociaux data :\n",
    "mouvements_sociaux = (\n",
    "    pd.read_csv(\n",
    "        \"/Users/louisleibovici/Documents/VS_Code/Bike_counters DSB Project/bike_counters/external_data/mouvements-sociaux-depuis-2002.csv\",\n",
    "        date_format=\"%Y%m%d%H\",\n",
    "        sep=\";\"\n",
    "    )\n",
    "    .drop(columns=['date_de_fin', 'Organisations syndicales', 'Métiers ciblés par le préavis',\n",
    "                   'Population devant travailler ciblee par le préavis', 'Nombre de grévistes du préavis'])  # Drop unnecessary columns\n",
    ")\n",
    "\n",
    "mouvements_sociaux['Date'] = pd.to_datetime(mouvements_sociaux['Date'])\n",
    "\n",
    "mouvements_sociaux = mouvements_sociaux[\n",
    "    (mouvements_sociaux[\"Date\"] >= df_train[\"date\"].min() - datetime.timedelta(hours=1))\n",
    "    & (mouvements_sociaux[\"Date\"] <= df_test[\"date\"].max() + datetime.timedelta(hours=1))\n",
    "]\n",
    "\n",
    "mouvements_sociaux = mouvements_sociaux[mouvements_sociaux['Date'] != pd.Timestamp('2021-03-08')]"
   ]
  },
  {
   "cell_type": "code",
   "execution_count": 5,
   "metadata": {},
   "outputs": [],
   "source": [
    "# Extract the date feature on different time scales :\n",
    "\n",
    "fr_holidays = holidays.France()\n",
    "\n",
    "def _encode_dates(X):\n",
    "    X = X.copy()  # Modify a copy of X\n",
    "\n",
    "    # Encode the date information from the DateOfDeparture columns\n",
    "    X[\"year\"] = X[\"date\"].dt.year\n",
    "    X[\"month\"] = X[\"date\"].dt.month\n",
    "    X[\"day\"] = X[\"date\"].dt.day\n",
    "    X[\"weekday\"] = X[\"date\"].dt.weekday\n",
    "    X[\"hour\"] = X[\"date\"].dt.hour\n",
    "\n",
    "    # Creation of a binary variable depicting if the day is a weekend\n",
    "    X[\"is_weekend\"] = np.where(X[\"weekday\"] + 1 > 5, 1, 0)\n",
    "\n",
    "    # Add a feature to indicate if the day is a holiday in France\n",
    "    X[\"is_holiday\"] = X[\"date\"].apply(lambda d: 1 if d in fr_holidays else 0)\n",
    "\n",
    "    # Add a feature to indicate if it is a jour férié in France\n",
    "    X[\"is_jour_ferie\"] = X[\"date\"].dt.date.isin(jour_feries[\"date\"]).astype(int)\n",
    "\n",
    "    # Add a feature to indicate if it is a jour of \"mouvement social\" in France\n",
    "    X[\"is_jour_mouvement_social\"] = X[\"date\"].dt.date.isin(mouvements_sociaux[\"Date\"]).astype(int)\n",
    "\n",
    "    return X\n",
    "\n",
    "df_train = _encode_dates(df_train)\n",
    "df_test = _encode_dates(df_test)\n"
   ]
  },
  {
   "cell_type": "code",
   "execution_count": 6,
   "metadata": {},
   "outputs": [],
   "source": [
    "import geopandas as gpd\n",
    "from shapely.geometry import Point\n",
    "\n",
    "# To add an \"arrondissement\" feature based on latitute ande longitude\n",
    "def arrondissement(X, shapefile_path=\"/Users/louisleibovici/Documents/VS_Code/Bike_counters DSB Project/bike_counters/external_data/arrondissements.shp\"):\n",
    "\n",
    "    arrondissements = gpd.read_file(shapefile_path)\n",
    "\n",
    "    # Create a GeoDataFrame for the input dataset\n",
    "    X = X.copy()  # Work on a copy of the dataset\n",
    "    X[\"geometry\"] = X.apply(lambda row: Point(row[\"longitude\"], row[\"latitude\"]), axis=1)\n",
    "    gdf = gpd.GeoDataFrame(X, geometry=\"geometry\", crs=arrondissements.crs)\n",
    "\n",
    "    # Perform a spatial join to match points to arrondissements\n",
    "    merged = gpd.sjoin(gdf, arrondissements, how=\"left\", predicate=\"within\")\n",
    "\n",
    "    # Extract the arrondissement code (e.g., \"c_ar\") and fill missing values with 21\n",
    "    X[\"district\"] = merged[\"c_ar\"].fillna(21).astype(int)\n",
    "\n",
    "    # Drop the geometry column (optional, if not needed further)\n",
    "    X = X.drop(columns=[\"geometry\"])\n",
    "\n",
    "    return X\n",
    "\n",
    "df_train = arrondissement(df_train)\n",
    "df_test = arrondissement(df_test)"
   ]
  },
  {
   "cell_type": "code",
   "execution_count": 7,
   "metadata": {},
   "outputs": [],
   "source": [
    "df_train = df_train.drop(columns=['date'])\n",
    "df_test = df_test.drop(columns=['date'])"
   ]
  },
  {
   "cell_type": "code",
   "execution_count": 8,
   "metadata": {},
   "outputs": [],
   "source": [
    "# Preprocessing test :\n",
    "\n",
    "ordinal_cols = [\n",
    "    \"counter_installation_date\"\n",
    "]\n",
    "\n",
    "onehot_cols = [\n",
    "    \"counter_name\",\n",
    "    \"site_name\",\n",
    "]\n",
    "\n",
    "scale_cols = [\n",
    "    \"latitude\",\n",
    "    \"longitude\",\n",
    "    \"year\",\n",
    "    \"month\",\n",
    "    \"day\",\n",
    "    \"weekday\",\n",
    "    \"is_weekend\",\n",
    "    \"hour\",\n",
    "    \"is_holiday\",\n",
    "    \"is_jour_ferie\",\n",
    "    \"is_jour_mouvement_social\",\n",
    "    \"district\",\n",
    "]\n",
    "\n",
    "scaler = StandardScaler()\n",
    "onehot = OneHotEncoder(sparse_output=False)\n",
    "ordinal = OrdinalEncoder()\n",
    "\n",
    "\n",
    "# Create the preprocessing pipeline\n",
    "preprocessor = ColumnTransformer(\n",
    "    transformers=[\n",
    "        (\"scale\", scaler, scale_cols),\n",
    "        (\"onehot\", onehot, onehot_cols),\n",
    "        (\"ordinal\", ordinal, ordinal_cols),\n",
    "    ]\n",
    ")\n",
    "\n",
    "# Define the full pipeline\n",
    "def create_pipeline(params):\n",
    "    model = XGBRegressor(**params, random_state=42)\n",
    "    pipeline = Pipeline(steps=[\n",
    "        (\"preprocessor\", preprocessor),\n",
    "        (\"model\", model)\n",
    "    ])\n",
    "    return pipeline"
   ]
  },
  {
   "cell_type": "code",
   "execution_count": 9,
   "metadata": {},
   "outputs": [],
   "source": [
    "X_train = df_train.drop(columns=[\"bike_count\", \"log_bike_count\"])\n",
    "y_train = df_train[\"log_bike_count\"]\n",
    "\n",
    "X_test = df_test.copy()"
   ]
  },
  {
   "cell_type": "code",
   "execution_count": 10,
   "metadata": {},
   "outputs": [],
   "source": [
    "# Split the subset into train and validation sets\n",
    "X_train_split, X_val_split, y_train_split, y_val_split = train_test_split(\n",
    "    X_train, y_train, test_size=0.2, random_state=42\n",
    ")"
   ]
  },
  {
   "cell_type": "code",
   "execution_count": 11,
   "metadata": {},
   "outputs": [
    {
     "name": "stderr",
     "output_type": "stream",
     "text": [
      "[I 2024-12-11 18:00:50,892] A new study created in memory with name: no-name-191bee23-b91c-4f4b-b0b3-bcabd6474ec0\n",
      "[I 2024-12-11 18:00:55,289] Trial 0 finished with value: 0.5566683773599338 and parameters: {'n_estimators': 438, 'learning_rate': 0.13260633578085637, 'max_depth': 3, 'subsample': 0.8065862828251775, 'colsample_bytree': 0.986854104245422, 'reg_alpha': 7.282002907538133, 'reg_lambda': 6.344253504336318, 'min_child_weight': 6.570359897733053}. Best is trial 0 with value: 0.5566683773599338.\n",
      "[I 2024-12-11 18:00:59,598] Trial 1 finished with value: 0.457780888236968 and parameters: {'n_estimators': 156, 'learning_rate': 0.038485141994855636, 'max_depth': 10, 'subsample': 0.6118439818651726, 'colsample_bytree': 0.9143499321127346, 'reg_alpha': 3.305977059138632, 'reg_lambda': 3.396435507800318, 'min_child_weight': 9.563470235371724}. Best is trial 1 with value: 0.457780888236968.\n",
      "[I 2024-12-11 18:01:05,909] Trial 2 finished with value: 0.45018648073310646 and parameters: {'n_estimators': 421, 'learning_rate': 0.2796191782277779, 'max_depth': 4, 'subsample': 0.6392574033943637, 'colsample_bytree': 0.610824424604995, 'reg_alpha': 5.837981171272441, 'reg_lambda': 0.05566966964999973, 'min_child_weight': 1.6140518335017389}. Best is trial 2 with value: 0.45018648073310646.\n",
      "[I 2024-12-11 18:01:09,047] Trial 3 finished with value: 0.3823887542252629 and parameters: {'n_estimators': 184, 'learning_rate': 0.2973840058413916, 'max_depth': 7, 'subsample': 0.8302822630009783, 'colsample_bytree': 0.6796811024863035, 'reg_alpha': 5.039796950471072, 'reg_lambda': 4.485892150923533, 'min_child_weight': 9.20686760072378}. Best is trial 3 with value: 0.3823887542252629.\n",
      "[I 2024-12-11 18:01:15,569] Trial 4 finished with value: 0.367067254647578 and parameters: {'n_estimators': 435, 'learning_rate': 0.28147402696062235, 'max_depth': 6, 'subsample': 0.6587675880498356, 'colsample_bytree': 0.9151668461998775, 'reg_alpha': 2.3342218894870626, 'reg_lambda': 0.030885161137728528, 'min_child_weight': 1.5827860089058379}. Best is trial 4 with value: 0.367067254647578.\n",
      "[I 2024-12-11 18:01:24,436] Trial 5 finished with value: 0.3374328966639413 and parameters: {'n_estimators': 390, 'learning_rate': 0.18852997018084683, 'max_depth': 10, 'subsample': 0.9109631135372116, 'colsample_bytree': 0.6441408429690378, 'reg_alpha': 2.6836890141384737, 'reg_lambda': 0.16032174508438884, 'min_child_weight': 9.246711270658345}. Best is trial 5 with value: 0.3374328966639413.\n",
      "[I 2024-12-11 18:01:27,147] Trial 6 finished with value: 0.4095539948994329 and parameters: {'n_estimators': 171, 'learning_rate': 0.28876835582329774, 'max_depth': 6, 'subsample': 0.8230965292457773, 'colsample_bytree': 0.713658074467134, 'reg_alpha': 8.35976093628562, 'reg_lambda': 0.6058815198118047, 'min_child_weight': 5.915096593526156}. Best is trial 5 with value: 0.3374328966639413.\n",
      "[I 2024-12-11 18:01:30,306] Trial 7 finished with value: 0.46192090213928944 and parameters: {'n_estimators': 169, 'learning_rate': 0.0972497577927472, 'max_depth': 7, 'subsample': 0.9702600063771861, 'colsample_bytree': 0.8140199515914387, 'reg_alpha': 8.876099796285832, 'reg_lambda': 6.7479417229500065, 'min_child_weight': 4.444248155204289}. Best is trial 5 with value: 0.3374328966639413.\n",
      "[I 2024-12-11 18:01:35,070] Trial 8 finished with value: 0.3456998274336507 and parameters: {'n_estimators': 212, 'learning_rate': 0.2846204592795052, 'max_depth': 10, 'subsample': 0.8701276171399003, 'colsample_bytree': 0.810245760969164, 'reg_alpha': 9.169128371476509, 'reg_lambda': 6.587476422699463, 'min_child_weight': 5.234306845238049}. Best is trial 5 with value: 0.3374328966639413.\n",
      "[I 2024-12-11 18:01:43,032] Trial 9 finished with value: 0.3440237637244961 and parameters: {'n_estimators': 384, 'learning_rate': 0.26340665767713733, 'max_depth': 8, 'subsample': 0.9920178221118787, 'colsample_bytree': 0.9590165680611407, 'reg_alpha': 8.68291572564533, 'reg_lambda': 1.2230797200895136, 'min_child_weight': 7.004816094212719}. Best is trial 5 with value: 0.3374328966639413.\n",
      "[I 2024-12-11 18:01:49,641] Trial 10 finished with value: 0.35528753659745504 and parameters: {'n_estimators': 317, 'learning_rate': 0.20786204149155915, 'max_depth': 9, 'subsample': 0.7197157788626427, 'colsample_bytree': 0.5378615325027112, 'reg_alpha': 0.15107453651687797, 'reg_lambda': 8.961728640855089, 'min_child_weight': 8.278324897205769}. Best is trial 5 with value: 0.3374328966639413.\n",
      "[I 2024-12-11 18:01:56,073] Trial 11 finished with value: 0.3561022459889128 and parameters: {'n_estimators': 334, 'learning_rate': 0.2045024296418535, 'max_depth': 8, 'subsample': 0.9953686667434563, 'colsample_bytree': 0.6285928204483793, 'reg_alpha': 2.8786422790159842, 'reg_lambda': 2.396446164474147, 'min_child_weight': 7.6167955740901325}. Best is trial 5 with value: 0.3374328966639413.\n",
      "[I 2024-12-11 18:02:03,496] Trial 12 finished with value: 0.35216554124906085 and parameters: {'n_estimators': 370, 'learning_rate': 0.20460495073017923, 'max_depth': 9, 'subsample': 0.926104870831508, 'colsample_bytree': 0.5006688877740977, 'reg_alpha': 0.9147177286560106, 'reg_lambda': 2.2795289320763357, 'min_child_weight': 9.988110802162867}. Best is trial 5 with value: 0.3374328966639413.\n",
      "[I 2024-12-11 18:02:08,521] Trial 13 finished with value: 0.3549211084265171 and parameters: {'n_estimators': 265, 'learning_rate': 0.2408779765399883, 'max_depth': 8, 'subsample': 0.9201481576286301, 'colsample_bytree': 0.788063861871511, 'reg_alpha': 6.564524944456606, 'reg_lambda': 1.5548829903799455, 'min_child_weight': 3.4971806901154174}. Best is trial 5 with value: 0.3374328966639413.\n",
      "[I 2024-12-11 18:02:18,384] Trial 14 finished with value: 0.33801060469591115 and parameters: {'n_estimators': 488, 'learning_rate': 0.1552629223073618, 'max_depth': 9, 'subsample': 0.9150379468035655, 'colsample_bytree': 0.8898188327494169, 'reg_alpha': 4.151546796482975, 'reg_lambda': 3.865894626985102, 'min_child_weight': 7.3587635926438715}. Best is trial 5 with value: 0.3374328966639413.\n",
      "[I 2024-12-11 18:02:29,062] Trial 15 finished with value: 0.33983378332645753 and parameters: {'n_estimators': 489, 'learning_rate': 0.14611761618247512, 'max_depth': 10, 'subsample': 0.5528809356324105, 'colsample_bytree': 0.8697878778448214, 'reg_alpha': 3.763145030994661, 'reg_lambda': 4.263455663111864, 'min_child_weight': 8.211303022501301}. Best is trial 5 with value: 0.3374328966639413.\n",
      "[I 2024-12-11 18:02:38,954] Trial 16 finished with value: 0.3463121752079638 and parameters: {'n_estimators': 489, 'learning_rate': 0.10138803295058968, 'max_depth': 9, 'subsample': 0.7681425554082227, 'colsample_bytree': 0.7439750603731056, 'reg_alpha': 1.6797466019050198, 'reg_lambda': 3.4293180876514664, 'min_child_weight': 8.602216502244703}. Best is trial 5 with value: 0.3374328966639413.\n",
      "[I 2024-12-11 18:02:42,630] Trial 17 finished with value: 0.4582823441960828 and parameters: {'n_estimators': 272, 'learning_rate': 0.17382516127136516, 'max_depth': 5, 'subsample': 0.8961916603070073, 'colsample_bytree': 0.6360929430148824, 'reg_alpha': 4.190442152435493, 'reg_lambda': 9.868251483960488, 'min_child_weight': 7.066995948923672}. Best is trial 5 with value: 0.3374328966639413.\n",
      "[I 2024-12-11 18:02:45,774] Trial 18 finished with value: 0.5714132869956514 and parameters: {'n_estimators': 101, 'learning_rate': 0.04415197085834892, 'max_depth': 9, 'subsample': 0.7103753635934578, 'colsample_bytree': 0.5582535085649527, 'reg_alpha': 4.993892218738774, 'reg_lambda': 5.622029017955692, 'min_child_weight': 3.7247125508016725}. Best is trial 5 with value: 0.3374328966639413.\n",
      "[I 2024-12-11 18:02:54,060] Trial 19 finished with value: 0.33467099853804727 and parameters: {'n_estimators': 398, 'learning_rate': 0.1695861213579574, 'max_depth': 10, 'subsample': 0.8674881094210819, 'colsample_bytree': 0.8459220991420235, 'reg_alpha': 1.8159600449260873, 'reg_lambda': 7.663374360156968, 'min_child_weight': 5.9097141633325085}. Best is trial 19 with value: 0.33467099853804727.\n",
      "[I 2024-12-11 18:03:02,109] Trial 20 finished with value: 0.3470294373775527 and parameters: {'n_estimators': 364, 'learning_rate': 0.10512089011165016, 'max_depth': 10, 'subsample': 0.859869826900938, 'colsample_bytree': 0.6840227286462284, 'reg_alpha': 1.7673994409865394, 'reg_lambda': 8.403682972490191, 'min_child_weight': 2.6752539892603036}. Best is trial 19 with value: 0.33467099853804727.\n",
      "[I 2024-12-11 18:03:13,366] Trial 21 finished with value: 0.3323770485882511 and parameters: {'n_estimators': 458, 'learning_rate': 0.16829653897079708, 'max_depth': 10, 'subsample': 0.932056742626905, 'colsample_bytree': 0.8520185457123294, 'reg_alpha': 2.5703044120632157, 'reg_lambda': 7.397489377514699, 'min_child_weight': 5.9105433520369255}. Best is trial 21 with value: 0.3323770485882511.\n",
      "[I 2024-12-11 18:03:22,489] Trial 22 finished with value: 0.3329834443355278 and parameters: {'n_estimators': 417, 'learning_rate': 0.1820772919214002, 'max_depth': 10, 'subsample': 0.9481262137135014, 'colsample_bytree': 0.8467346129729575, 'reg_alpha': 0.9938057928102444, 'reg_lambda': 7.6596171547545016, 'min_child_weight': 5.404892577117825}. Best is trial 21 with value: 0.3323770485882511.\n",
      "[I 2024-12-11 18:03:30,796] Trial 23 finished with value: 0.34131740050026144 and parameters: {'n_estimators': 449, 'learning_rate': 0.22689588464654256, 'max_depth': 8, 'subsample': 0.9519997373724025, 'colsample_bytree': 0.8453307971422154, 'reg_alpha': 0.2507145186494961, 'reg_lambda': 8.355590792019123, 'min_child_weight': 5.519998514754395}. Best is trial 21 with value: 0.3323770485882511.\n",
      "[I 2024-12-11 18:03:39,829] Trial 24 finished with value: 0.33593398650147066 and parameters: {'n_estimators': 415, 'learning_rate': 0.17109963745028123, 'max_depth': 10, 'subsample': 0.7822211691129761, 'colsample_bytree': 0.7604432404563569, 'reg_alpha': 1.2515899647225273, 'reg_lambda': 7.459348807658555, 'min_child_weight': 4.602534397004255}. Best is trial 21 with value: 0.3323770485882511.\n",
      "[I 2024-12-11 18:03:49,212] Trial 25 finished with value: 0.34076965949944354 and parameters: {'n_estimators': 460, 'learning_rate': 0.12383174623996995, 'max_depth': 9, 'subsample': 0.8830743715958337, 'colsample_bytree': 0.8485908999596217, 'reg_alpha': 2.0809198342765667, 'reg_lambda': 7.583642273337488, 'min_child_weight': 6.120255592089947}. Best is trial 21 with value: 0.3323770485882511.\n",
      "[I 2024-12-11 18:03:57,026] Trial 26 finished with value: 0.3560854489091062 and parameters: {'n_estimators': 343, 'learning_rate': 0.06657401028934372, 'max_depth': 10, 'subsample': 0.9584868513062542, 'colsample_bytree': 0.9127038145925499, 'reg_alpha': 1.2560202257441042, 'reg_lambda': 5.514649219027331, 'min_child_weight': 0.18044456741305304}. Best is trial 21 with value: 0.3323770485882511.\n",
      "[I 2024-12-11 18:04:03,880] Trial 27 finished with value: 0.3551814523414596 and parameters: {'n_estimators': 401, 'learning_rate': 0.23839757851209767, 'max_depth': 7, 'subsample': 0.8491676411953945, 'colsample_bytree': 0.8306840828705025, 'reg_alpha': 0.887757042698422, 'reg_lambda': 9.861087922681504, 'min_child_weight': 3.8240529742202267}. Best is trial 21 with value: 0.3323770485882511.\n",
      "[I 2024-12-11 18:04:12,501] Trial 28 finished with value: 0.3464811038280362 and parameters: {'n_estimators': 460, 'learning_rate': 0.16753216250359998, 'max_depth': 8, 'subsample': 0.9500447305663452, 'colsample_bytree': 0.771033266571322, 'reg_alpha': 3.2301381573884718, 'reg_lambda': 7.376021650463435, 'min_child_weight': 4.928947711552892}. Best is trial 21 with value: 0.3323770485882511.\n",
      "[I 2024-12-11 18:04:16,229] Trial 29 finished with value: 0.5307813541749148 and parameters: {'n_estimators': 297, 'learning_rate': 0.1259197289440777, 'max_depth': 4, 'subsample': 0.8003145248745602, 'colsample_bytree': 0.9846733611591763, 'reg_alpha': 0.09086141143481452, 'reg_lambda': 6.06848559830602, 'min_child_weight': 6.3461293591458094}. Best is trial 21 with value: 0.3323770485882511.\n",
      "[I 2024-12-11 18:04:21,494] Trial 30 finished with value: 0.5478334650497557 and parameters: {'n_estimators': 432, 'learning_rate': 0.14404816054871875, 'max_depth': 3, 'subsample': 0.7409049497184825, 'colsample_bytree': 0.9465460661899862, 'reg_alpha': 9.870018948969872, 'reg_lambda': 9.03433982294386, 'min_child_weight': 6.648500504402856}. Best is trial 21 with value: 0.3323770485882511.\n",
      "[I 2024-12-11 18:04:32,128] Trial 31 finished with value: 0.3359685223503626 and parameters: {'n_estimators': 417, 'learning_rate': 0.17909695770395986, 'max_depth': 10, 'subsample': 0.7992843207487522, 'colsample_bytree': 0.7580710389995295, 'reg_alpha': 1.285891388557266, 'reg_lambda': 7.389795901768162, 'min_child_weight': 4.555508082838651}. Best is trial 21 with value: 0.3323770485882511.\n",
      "[I 2024-12-11 18:04:43,247] Trial 32 finished with value: 0.3364252382368212 and parameters: {'n_estimators': 467, 'learning_rate': 0.18812260657191698, 'max_depth': 10, 'subsample': 0.7903481660986267, 'colsample_bytree': 0.727748724087809, 'reg_alpha': 0.6994313030351922, 'reg_lambda': 7.930082489386296, 'min_child_weight': 5.608571192336969}. Best is trial 21 with value: 0.3323770485882511.\n",
      "[I 2024-12-11 18:04:52,805] Trial 33 finished with value: 0.34041882554017894 and parameters: {'n_estimators': 405, 'learning_rate': 0.1567603702774355, 'max_depth': 9, 'subsample': 0.8448226639890335, 'colsample_bytree': 0.875232192924863, 'reg_alpha': 2.345278997267098, 'reg_lambda': 6.893925521888958, 'min_child_weight': 4.597504320894052}. Best is trial 21 with value: 0.3323770485882511.\n",
      "[I 2024-12-11 18:05:02,412] Trial 34 finished with value: 0.33793490324289654 and parameters: {'n_estimators': 350, 'learning_rate': 0.21273644127004895, 'max_depth': 10, 'subsample': 0.6911339771228191, 'colsample_bytree': 0.7835222087209937, 'reg_alpha': 1.577554097739395, 'reg_lambda': 5.062122403847839, 'min_child_weight': 2.9510363149969328}. Best is trial 21 with value: 0.3323770485882511.\n",
      "[I 2024-12-11 18:05:12,548] Trial 35 finished with value: 0.3459898597948664 and parameters: {'n_estimators': 424, 'learning_rate': 0.13479196793929688, 'max_depth': 9, 'subsample': 0.7720302188493149, 'colsample_bytree': 0.8043293108142022, 'reg_alpha': 3.547475647631996, 'reg_lambda': 9.103129025941897, 'min_child_weight': 5.048240988073044}. Best is trial 21 with value: 0.3323770485882511.\n",
      "[I 2024-12-11 18:05:22,653] Trial 36 finished with value: 0.33390451827646994 and parameters: {'n_estimators': 376, 'learning_rate': 0.16687854678973685, 'max_depth': 10, 'subsample': 0.888759866673315, 'colsample_bytree': 0.9068248390602681, 'reg_alpha': 2.7469045554365494, 'reg_lambda': 6.120983906156658, 'min_child_weight': 4.099929244205697}. Best is trial 21 with value: 0.3323770485882511.\n",
      "[I 2024-12-11 18:05:33,371] Trial 37 finished with value: 0.3331504152928381 and parameters: {'n_estimators': 385, 'learning_rate': 0.19123199974044855, 'max_depth': 10, 'subsample': 0.8872158931887134, 'colsample_bytree': 0.9351123134337731, 'reg_alpha': 2.8407454669473635, 'reg_lambda': 6.118855667072478, 'min_child_weight': 2.6883750337639816}. Best is trial 21 with value: 0.3323770485882511.\n",
      "[I 2024-12-11 18:05:42,816] Trial 38 finished with value: 0.3382037742281049 and parameters: {'n_estimators': 374, 'learning_rate': 0.1902388818419663, 'max_depth': 9, 'subsample': 0.93111147125497, 'colsample_bytree': 0.9347662279912673, 'reg_alpha': 4.667140143420928, 'reg_lambda': 6.060843651336585, 'min_child_weight': 3.036498327656248}. Best is trial 21 with value: 0.3323770485882511.\n",
      "[I 2024-12-11 18:05:55,141] Trial 39 finished with value: 0.33378208593840913 and parameters: {'n_estimators': 440, 'learning_rate': 0.25321446243777124, 'max_depth': 10, 'subsample': 0.8929647208458367, 'colsample_bytree': 0.9899561524989754, 'reg_alpha': 5.807019908789734, 'reg_lambda': 4.9233856483533405, 'min_child_weight': 2.121114149978779}. Best is trial 21 with value: 0.3323770485882511.\n",
      "[I 2024-12-11 18:06:04,602] Trial 40 finished with value: 0.36149653037327606 and parameters: {'n_estimators': 500, 'learning_rate': 0.2644141741055172, 'max_depth': 6, 'subsample': 0.8259719056536384, 'colsample_bytree': 0.984670574341084, 'reg_alpha': 5.669163018246136, 'reg_lambda': 5.306284116977286, 'min_child_weight': 1.7607041759094684}. Best is trial 21 with value: 0.3323770485882511.\n",
      "[I 2024-12-11 18:06:17,929] Trial 41 finished with value: 0.33382576311341366 and parameters: {'n_estimators': 469, 'learning_rate': 0.2566906192215394, 'max_depth': 10, 'subsample': 0.9029217889968699, 'colsample_bytree': 0.9104098769852802, 'reg_alpha': 6.708481469700218, 'reg_lambda': 4.43655223068059, 'min_child_weight': 2.075198818399429}. Best is trial 21 with value: 0.3323770485882511.\n",
      "[I 2024-12-11 18:06:30,571] Trial 42 finished with value: 0.33284805138870155 and parameters: {'n_estimators': 442, 'learning_rate': 0.2495154285080563, 'max_depth': 10, 'subsample': 0.9805953966963513, 'colsample_bytree': 0.9959762540613135, 'reg_alpha': 7.33363766479966, 'reg_lambda': 4.6849368879781785, 'min_child_weight': 1.3067188505619258}. Best is trial 21 with value: 0.3323770485882511.\n",
      "[I 2024-12-11 18:06:43,115] Trial 43 finished with value: 0.33250294488806614 and parameters: {'n_estimators': 445, 'learning_rate': 0.22349870475431702, 'max_depth': 10, 'subsample': 0.977801848797959, 'colsample_bytree': 0.9622537871026309, 'reg_alpha': 7.412987964030098, 'reg_lambda': 4.9427758970694935, 'min_child_weight': 1.0605770009060738}. Best is trial 21 with value: 0.3323770485882511.\n",
      "[I 2024-12-11 18:06:54,290] Trial 44 finished with value: 0.3367922005372885 and parameters: {'n_estimators': 443, 'learning_rate': 0.2226212765084615, 'max_depth': 9, 'subsample': 0.9806192777766883, 'colsample_bytree': 0.9536102943887597, 'reg_alpha': 8.041504005027065, 'reg_lambda': 3.7794695941466214, 'min_child_weight': 0.8958234158061575}. Best is trial 21 with value: 0.3323770485882511.\n",
      "[I 2024-12-11 18:07:04,842] Trial 45 finished with value: 0.33853949400861755 and parameters: {'n_estimators': 427, 'learning_rate': 0.19403553488743577, 'max_depth': 9, 'subsample': 0.9725329541677368, 'colsample_bytree': 0.9670996434445965, 'reg_alpha': 7.611452470879009, 'reg_lambda': 6.700660327623295, 'min_child_weight': 0.892454250231072}. Best is trial 21 with value: 0.3323770485882511.\n",
      "[I 2024-12-11 18:07:18,354] Trial 46 finished with value: 0.3318289013714301 and parameters: {'n_estimators': 478, 'learning_rate': 0.22331683894517243, 'max_depth': 10, 'subsample': 0.9998958430834379, 'colsample_bytree': 0.9276046182951486, 'reg_alpha': 7.078073015514812, 'reg_lambda': 4.769265438469167, 'min_child_weight': 0.5906356873677385}. Best is trial 46 with value: 0.3318289013714301.\n",
      "[I 2024-12-11 18:07:29,428] Trial 47 finished with value: 0.3395791945360659 and parameters: {'n_estimators': 476, 'learning_rate': 0.29910891887318447, 'max_depth': 8, 'subsample': 0.9971536248404765, 'colsample_bytree': 0.8858486253004172, 'reg_alpha': 6.918226598354435, 'reg_lambda': 2.8892485114444737, 'min_child_weight': 0.1306965621120768}. Best is trial 46 with value: 0.3318289013714301.\n",
      "[I 2024-12-11 18:07:42,252] Trial 48 finished with value: 0.33314043706192603 and parameters: {'n_estimators': 453, 'learning_rate': 0.2712437059490492, 'max_depth': 10, 'subsample': 0.9386758952099461, 'colsample_bytree': 0.9974527859599273, 'reg_alpha': 6.188048346143752, 'reg_lambda': 4.5684787194468885, 'min_child_weight': 0.9315278641884968}. Best is trial 46 with value: 0.3318289013714301.\n",
      "[I 2024-12-11 18:07:47,811] Trial 49 finished with value: 0.34821473925853236 and parameters: {'n_estimators': 210, 'learning_rate': 0.24241592840554313, 'max_depth': 9, 'subsample': 0.9758991737918516, 'colsample_bytree': 0.9292404948570984, 'reg_alpha': 7.489606965625479, 'reg_lambda': 3.9733997546922417, 'min_child_weight': 0.4976169698838303}. Best is trial 46 with value: 0.3318289013714301.\n"
     ]
    },
    {
     "name": "stdout",
     "output_type": "stream",
     "text": [
      "Best Parameters: {'n_estimators': 478, 'learning_rate': 0.22331683894517243, 'max_depth': 10, 'subsample': 0.9998958430834379, 'colsample_bytree': 0.9276046182951486, 'reg_alpha': 7.078073015514812, 'reg_lambda': 4.769265438469167, 'min_child_weight': 0.5906356873677385}\n",
      "Best RMSE: 0.3318289013714301\n"
     ]
    }
   ],
   "source": [
    "# Define the Optuna objective function\n",
    "def objective(trial):\n",
    "    # Suggest hyperparameters\n",
    "    param = {\n",
    "        \"n_estimators\": trial.suggest_int(\"n_estimators\", 100, 500),\n",
    "        \"learning_rate\": trial.suggest_float(\"learning_rate\", 0.01, 0.3),\n",
    "        \"max_depth\": trial.suggest_int(\"max_depth\", 3, 10),\n",
    "        \"subsample\": trial.suggest_float(\"subsample\", 0.5, 1.0),\n",
    "        \"colsample_bytree\": trial.suggest_float(\"colsample_bytree\", 0.5, 1.0),\n",
    "        \"reg_alpha\": trial.suggest_float(\"reg_alpha\", 1e-8, 10.0),\n",
    "        \"reg_lambda\": trial.suggest_float(\"reg_lambda\", 1e-8, 10.0),\n",
    "        \"min_child_weight\": trial.suggest_float(\"min_child_weight\", 1e-8, 10.0),\n",
    "    }\n",
    "\n",
    "    # Create pipeline with suggested parameters\n",
    "    pipeline = create_pipeline(param)\n",
    "\n",
    "    # Train the pipeline\n",
    "    pipeline.fit(X_train_split, y_train_split)\n",
    "\n",
    "    # Predict on validation set\n",
    "    y_pred = pipeline.predict(X_val_split)\n",
    "\n",
    "    # Calculate RMSE\n",
    "    rmse = np.sqrt(mean_squared_error(y_val_split, y_pred))\n",
    "    return rmse\n",
    "\n",
    "# Create an Optuna study and optimize\n",
    "study = optuna.create_study(direction=\"minimize\")  # Minimize RMSE\n",
    "study.optimize(objective, n_trials=50, timeout=1200)  # Adjust n_trials and timeout as needed\n",
    "\n",
    "# Get the best parameters and score\n",
    "print(\"Best Parameters:\", study.best_params)\n",
    "print(\"Best RMSE:\", study.best_value)"
   ]
  },
  {
   "cell_type": "code",
   "execution_count": 12,
   "metadata": {},
   "outputs": [],
   "source": [
    "# Train the final model with the best parameters on the full dataset\n",
    "best_params = study.best_params\n",
    "final_pipeline = create_pipeline(best_params)\n",
    "final_pipeline.fit(X_train, y_train)\n",
    "\n",
    "\n",
    "# best_model = xgb.XGBRegressor(**best_params, random_state=42)\n",
    "# best_model.fit(X_train, y_train)  # Use the full training set for the final model\n",
    "\n",
    "# Predict on the test set\n",
    "# y_predictions = best_model.predict(X_test)\n",
    "y_predictions = final_pipeline.predict(X_test)\n",
    "\n"
   ]
  },
  {
   "cell_type": "code",
   "execution_count": 13,
   "metadata": {},
   "outputs": [
    {
     "name": "stdout",
     "output_type": "stream",
     "text": [
      "[0.3934483 1.7413267 2.4190354 ... 5.350074  4.760247  3.4848058]\n"
     ]
    }
   ],
   "source": [
    "print(y_predictions)"
   ]
  },
  {
   "cell_type": "code",
   "execution_count": 14,
   "metadata": {},
   "outputs": [],
   "source": [
    "pd.DataFrame(y_predictions, columns=[\"log_bike_count\"]).reset_index().rename(\n",
    "    columns={\"index\": \"Id\"}\n",
    ").to_csv(\"/Users/louisleibovici/Documents/VS_Code/Bike_counters DSB Project/bike_counters/predictions_XGBoost_Optuna.csv\", index=False)"
   ]
  }
 ],
 "metadata": {
  "kernelspec": {
   "display_name": "base",
   "language": "python",
   "name": "python3"
  },
  "language_info": {
   "codemirror_mode": {
    "name": "ipython",
    "version": 3
   },
   "file_extension": ".py",
   "mimetype": "text/x-python",
   "name": "python",
   "nbconvert_exporter": "python",
   "pygments_lexer": "ipython3",
   "version": "3.12.0"
  }
 },
 "nbformat": 4,
 "nbformat_minor": 2
}
