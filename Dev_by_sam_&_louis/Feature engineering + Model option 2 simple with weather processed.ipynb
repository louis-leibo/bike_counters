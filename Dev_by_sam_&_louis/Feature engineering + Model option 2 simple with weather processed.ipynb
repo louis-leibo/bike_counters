{
 "cells": [
  {
   "cell_type": "code",
   "execution_count": 11,
   "metadata": {},
   "outputs": [],
   "source": [
    "import pandas as pd\n",
    "import numpy as np\n",
    "\n",
    "from skrub import TableVectorizer\n",
    "import xgboost as xgb\n",
    "from sklearn.pipeline import Pipeline\n",
    "\n",
    "import matplotlib.pyplot as plt\n"
   ]
  },
  {
   "cell_type": "code",
   "execution_count": 2,
   "metadata": {},
   "outputs": [],
   "source": [
    "# Import the files\n",
    "df_train = pd.read_parquet(\"/Users/louisleibovici/Documents/VS_Code/Bike_counters DSB Project/bike_counters/data/train.parquet\")\n",
    "df_test = pd.read_parquet(\"/Users/louisleibovici/Documents/VS_Code/Bike_counters DSB Project/bike_counters/data/final_test.parquet\")\n",
    "external_data_cleaned = pd.read_csv(\"/Users/louisleibovici/Documents/VS_Code/Bike_counters DSB Project/bike_counters/external_data/external_data_cleaned.csv\")"
   ]
  },
  {
   "cell_type": "code",
   "execution_count": 3,
   "metadata": {},
   "outputs": [],
   "source": [
    "# we convert 'date' column to datetime in all datasets\n",
    "external_data_cleaned['date'] = pd.to_datetime(external_data_cleaned['date'])\n",
    "df_train['date'] = pd.to_datetime(df_train['date']).astype('datetime64[ns]')\n",
    "df_test['date'] = pd.to_datetime(df_test['date']).astype('datetime64[ns]')\n",
    "\n",
    "# Sort datasets by date\n",
    "external_data_cleaned.sort_values('date', inplace=True)\n",
    "df_train.sort_values('date', inplace=True)\n",
    "df_test.sort_values('date', inplace=True)\n",
    "\n",
    "# we merge the data together  by performing the nearest match in terms of date :\n",
    "training_set_merged = pd.merge_asof(df_train, external_data_cleaned, on='date', direction='nearest')\n",
    "testing_set_merged = pd.merge_asof(df_test, external_data_cleaned, on='date', direction='nearest')"
   ]
  },
  {
   "cell_type": "code",
   "execution_count": 4,
   "metadata": {},
   "outputs": [],
   "source": [
    "# Extract the date feature on different time scales :\n",
    "\n",
    "def _encode_dates(X):\n",
    "    X = X.copy()  # modify a copy of X\n",
    "    # Encode the date information from the DateOfDeparture columns\n",
    "    X[\"year\"] = X[\"date\"].dt.year\n",
    "    X[\"month\"] = X[\"date\"].dt.month\n",
    "    X[\"day\"] = X[\"date\"].dt.day\n",
    "    X[\"weekday\"] = X[\"date\"].dt.weekday\n",
    "    X[\"hour\"] = X[\"date\"].dt.hour\n",
    "\n",
    "    # creation of a binary varible depicting if day in weekend\n",
    "    X[\"is_weekend\"] = np.where(X[\"weekday\"] + 1 > 5, 1, 0)\n",
    "\n",
    "    # Finally we can drop the original columns from the dataframe\n",
    "    return X.drop(columns=[\"date\"])\n",
    "\n",
    "training_set_merged = _encode_dates(training_set_merged)\n",
    "testing_set_merged = _encode_dates(testing_set_merged)\n"
   ]
  },
  {
   "cell_type": "code",
   "execution_count": 5,
   "metadata": {},
   "outputs": [],
   "source": [
    "X_train = training_set_merged.drop(columns=[\"bike_count\", \"log_bike_count\"])\n",
    "y_train = training_set_merged[\"log_bike_count\"]\n",
    "\n",
    "X_test = testing_set_merged.copy()"
   ]
  },
  {
   "cell_type": "code",
   "execution_count": 6,
   "metadata": {},
   "outputs": [],
   "source": [
    "# Preprocessing pipeline\n",
    "pipeline = Pipeline(\n",
    "    steps=[\n",
    "        ('preprocessor', TableVectorizer()),\n",
    "        ('model', xgb.XGBRegressor()),  # Note the parentheses to instantiate the model\n",
    "    ]\n",
    ")"
   ]
  },
  {
   "cell_type": "code",
   "execution_count": 7,
   "metadata": {},
   "outputs": [],
   "source": [
    "# Fit Pipeline to Training Data\n",
    "pipeline.fit(X_train, y_train)\n",
    "\n",
    "# Make Predictions on Test Data\n",
    "y_predictions = pipeline.predict(X_test)\n"
   ]
  },
  {
   "cell_type": "code",
   "execution_count": 8,
   "metadata": {},
   "outputs": [
    {
     "name": "stdout",
     "output_type": "stream",
     "text": [
      "[0.40861917 1.5641835  1.7676523  ... 1.8979452  2.9409177  2.2760088 ]\n"
     ]
    }
   ],
   "source": [
    "print(y_predictions)"
   ]
  },
  {
   "cell_type": "code",
   "execution_count": 9,
   "metadata": {},
   "outputs": [],
   "source": [
    "pd.DataFrame(y_predictions, columns=[\"log_bike_count\"]).reset_index().rename(\n",
    "    columns={\"index\": \"Id\"}\n",
    ").to_csv(\"/Users/louisleibovici/Documents/VS_Code/Bike_counters DSB Project/bike_counters/predictions_option_2_vsimple_weather_preprocessed.csv\", index=False)"
   ]
  },
  {
   "cell_type": "code",
   "execution_count": 16,
   "metadata": {},
   "outputs": [
    {
     "name": "stdout",
     "output_type": "stream",
     "text": [
      "Top Features by Importance:\n"
     ]
    },
    {
     "data": {
      "text/html": [
       "<div>\n",
       "<style scoped>\n",
       "    .dataframe tbody tr th:only-of-type {\n",
       "        vertical-align: middle;\n",
       "    }\n",
       "\n",
       "    .dataframe tbody tr th {\n",
       "        vertical-align: top;\n",
       "    }\n",
       "\n",
       "    .dataframe thead th {\n",
       "        text-align: right;\n",
       "    }\n",
       "</style>\n",
       "<table border=\"1\" class=\"dataframe\">\n",
       "  <thead>\n",
       "    <tr style=\"text-align: right;\">\n",
       "      <th></th>\n",
       "      <th>Feature</th>\n",
       "      <th>Importance</th>\n",
       "    </tr>\n",
       "  </thead>\n",
       "  <tbody>\n",
       "    <tr>\n",
       "      <th>37</th>\n",
       "      <td>counter_name: sébastopol, 73, de</td>\n",
       "      <td>0.114385</td>\n",
       "    </tr>\n",
       "    <tr>\n",
       "      <th>30</th>\n",
       "      <td>counter_name: cours, reine, totem</td>\n",
       "      <td>0.103397</td>\n",
       "    </tr>\n",
       "    <tr>\n",
       "      <th>44</th>\n",
       "      <td>counter_name: invalides, des, de</td>\n",
       "      <td>0.070114</td>\n",
       "    </tr>\n",
       "    <tr>\n",
       "      <th>166</th>\n",
       "      <td>hour</td>\n",
       "      <td>0.069404</td>\n",
       "    </tr>\n",
       "    <tr>\n",
       "      <th>93</th>\n",
       "      <td>counter_installation_date_day</td>\n",
       "      <td>0.063186</td>\n",
       "    </tr>\n",
       "    <tr>\n",
       "      <th>36</th>\n",
       "      <td>counter_name: montparnasse, 152, du</td>\n",
       "      <td>0.055560</td>\n",
       "    </tr>\n",
       "    <tr>\n",
       "      <th>60</th>\n",
       "      <td>site_id</td>\n",
       "      <td>0.036249</td>\n",
       "    </tr>\n",
       "    <tr>\n",
       "      <th>7</th>\n",
       "      <td>counter_id: 102007049, 101007049, 100007049</td>\n",
       "      <td>0.033512</td>\n",
       "    </tr>\n",
       "    <tr>\n",
       "      <th>20</th>\n",
       "      <td>counter_id: 100047545, 104047545, 103047545</td>\n",
       "      <td>0.027898</td>\n",
       "    </tr>\n",
       "    <tr>\n",
       "      <th>155</th>\n",
       "      <td>latitude</td>\n",
       "      <td>0.026294</td>\n",
       "    </tr>\n",
       "    <tr>\n",
       "      <th>0</th>\n",
       "      <td>counter_id: 100056331, 103056331, 104056331</td>\n",
       "      <td>0.024362</td>\n",
       "    </tr>\n",
       "    <tr>\n",
       "      <th>6</th>\n",
       "      <td>counter_id: 103050876, 100050876, 104050876</td>\n",
       "      <td>0.024071</td>\n",
       "    </tr>\n",
       "    <tr>\n",
       "      <th>40</th>\n",
       "      <td>counter_name: austerlitz, 85, no</td>\n",
       "      <td>0.022225</td>\n",
       "    </tr>\n",
       "    <tr>\n",
       "      <th>46</th>\n",
       "      <td>counter_name: charenton, porte, no</td>\n",
       "      <td>0.021013</td>\n",
       "    </tr>\n",
       "    <tr>\n",
       "      <th>13</th>\n",
       "      <td>counter_id: 103057445, 100057445, 104057445</td>\n",
       "      <td>0.020934</td>\n",
       "    </tr>\n",
       "    <tr>\n",
       "      <th>17</th>\n",
       "      <td>counter_id: 105056336, 106056336, 100056336</td>\n",
       "      <td>0.020479</td>\n",
       "    </tr>\n",
       "    <tr>\n",
       "      <th>49</th>\n",
       "      <td>counter_name: tournelle, 27, no</td>\n",
       "      <td>0.018546</td>\n",
       "    </tr>\n",
       "    <tr>\n",
       "      <th>163</th>\n",
       "      <td>month</td>\n",
       "      <td>0.015175</td>\n",
       "    </tr>\n",
       "    <tr>\n",
       "      <th>14</th>\n",
       "      <td>counter_id: 104056226, 104056330, 104056332</td>\n",
       "      <td>0.014012</td>\n",
       "    </tr>\n",
       "    <tr>\n",
       "      <th>165</th>\n",
       "      <td>weekday</td>\n",
       "      <td>0.011314</td>\n",
       "    </tr>\n",
       "  </tbody>\n",
       "</table>\n",
       "</div>"
      ],
      "text/plain": [
       "                                         Feature  Importance\n",
       "37              counter_name: sébastopol, 73, de    0.114385\n",
       "30             counter_name: cours, reine, totem    0.103397\n",
       "44              counter_name: invalides, des, de    0.070114\n",
       "166                                         hour    0.069404\n",
       "93                 counter_installation_date_day    0.063186\n",
       "36           counter_name: montparnasse, 152, du    0.055560\n",
       "60                                       site_id    0.036249\n",
       "7    counter_id: 102007049, 101007049, 100007049    0.033512\n",
       "20   counter_id: 100047545, 104047545, 103047545    0.027898\n",
       "155                                     latitude    0.026294\n",
       "0    counter_id: 100056331, 103056331, 104056331    0.024362\n",
       "6    counter_id: 103050876, 100050876, 104050876    0.024071\n",
       "40              counter_name: austerlitz, 85, no    0.022225\n",
       "46            counter_name: charenton, porte, no    0.021013\n",
       "13   counter_id: 103057445, 100057445, 104057445    0.020934\n",
       "17   counter_id: 105056336, 106056336, 100056336    0.020479\n",
       "49               counter_name: tournelle, 27, no    0.018546\n",
       "163                                        month    0.015175\n",
       "14   counter_id: 104056226, 104056330, 104056332    0.014012\n",
       "165                                      weekday    0.011314"
      ]
     },
     "execution_count": 16,
     "metadata": {},
     "output_type": "execute_result"
    }
   ],
   "source": [
    "# code to get feature importance :\n",
    "\n",
    "\n",
    "# Step 1: Extract the preprocessor and feature names\n",
    "# Retrieve the preprocessor from the pipeline\n",
    "preprocessor = pipeline.named_steps['preprocessor']\n",
    "\n",
    "# Get the feature names after preprocessing\n",
    "feature_names = preprocessor.get_feature_names_out()\n",
    "\n",
    "# Step 2: Extract the trained XGBoost model and feature importance\n",
    "xgb_model = pipeline.named_steps['model']\n",
    "\n",
    "# Get feature importances from the trained XGBoost model\n",
    "feature_importance = xgb_model.feature_importances_\n",
    "\n",
    "# Step 3: Combine feature names and importance scores into a DataFrame\n",
    "importance_df = pd.DataFrame({'Feature': feature_names, 'Importance': feature_importance})\n",
    "\n",
    "# Sort features by importance\n",
    "importance_df = importance_df.sort_values(by='Importance', ascending=False)\n",
    "\n",
    "# Display top features\n",
    "print(\"Top Features by Importance:\")\n",
    "importance_df.head(20)"
   ]
  },
  {
   "cell_type": "code",
   "execution_count": 13,
   "metadata": {},
   "outputs": [
    {
     "name": "stdout",
     "output_type": "stream",
     "text": [
      "20\n",
      "168\n"
     ]
    }
   ],
   "source": [
    "print(len(feature_names))\n",
    "print(len(feature_importance))"
   ]
  }
 ],
 "metadata": {
  "kernelspec": {
   "display_name": "base",
   "language": "python",
   "name": "python3"
  },
  "language_info": {
   "codemirror_mode": {
    "name": "ipython",
    "version": 3
   },
   "file_extension": ".py",
   "mimetype": "text/x-python",
   "name": "python",
   "nbconvert_exporter": "python",
   "pygments_lexer": "ipython3",
   "version": "3.12.0"
  }
 },
 "nbformat": 4,
 "nbformat_minor": 2
}
