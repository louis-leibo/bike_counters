{
 "cells": [
  {
   "cell_type": "code",
   "execution_count": 20,
   "metadata": {},
   "outputs": [],
   "source": [
    "import pandas as pd\n",
    "import numpy as np\n",
    "\n",
    "from skrub import TableVectorizer\n",
    "import xgboost as xgb\n",
    "\n",
    "from xgboost import XGBRegressor\n",
    "\n",
    "from sklearn.pipeline import Pipeline\n",
    "\n",
    "import holidays\n",
    "\n",
    "from datetime import datetime\n",
    "\n",
    "from sklearn.model_selection import RandomizedSearchCV\n",
    "\n",
    "from sklearn.preprocessing import StandardScaler, OneHotEncoder, OrdinalEncoder\n",
    "\n",
    "from sklearn.compose import ColumnTransformer\n",
    "\n",
    "\n",
    "from sklearn.metrics import mean_squared_error\n",
    "\n",
    "from sklearn.model_selection import train_test_split\n",
    "\n",
    "import optuna\n",
    "\n",
    "import datetime\n",
    "\n",
    "from sklearn.model_selection import cross_val_score\n",
    "from sklearn.metrics import make_scorer, mean_squared_error\n",
    "\n",
    "from sklearn.preprocessing import StandardScaler, LabelEncoder\n",
    "\n",
    "\n"
   ]
  },
  {
   "cell_type": "code",
   "execution_count": 21,
   "metadata": {},
   "outputs": [],
   "source": [
    "# Import the files\n",
    "df_train = pd.read_parquet(\"/Users/louisleibovici/Documents/VS_Code/Bike_counters DSB Project/bike_counters/data/train.parquet\")\n",
    "df_test = pd.read_parquet(\"/Users/louisleibovici/Documents/VS_Code/Bike_counters DSB Project/bike_counters/data/final_test.parquet\")"
   ]
  },
  {
   "cell_type": "code",
   "execution_count": 22,
   "metadata": {},
   "outputs": [],
   "source": [
    "# Add jour ferie data\n",
    "jour_feries = (\n",
    "    pd.read_csv(\n",
    "        \"/Users/louisleibovici/Documents/VS_Code/Bike_counters DSB Project/bike_counters/external_data/jours_feries_metropole.csv\",\n",
    "        date_format=\"%Y%m%d%H\"  # Ensure date format is handled correctly\n",
    "    )\n",
    "    .drop(columns=[\"annee\", \"zone\"])  # Drop unnecessary columns\n",
    ")\n",
    "\n",
    "# Convert 'date' column to datetime\n",
    "jour_feries['date'] = pd.to_datetime(jour_feries['date'])\n",
    "\n",
    "# Filter rows based on the date range of df_train and df_test\n",
    "jour_feries = jour_feries[\n",
    "    (jour_feries[\"date\"] >= df_train[\"date\"].min() - datetime.timedelta(hours=1))\n",
    "    & (jour_feries[\"date\"] <= df_test[\"date\"].max() + datetime.timedelta(hours=1))\n",
    "]"
   ]
  },
  {
   "cell_type": "code",
   "execution_count": 23,
   "metadata": {},
   "outputs": [],
   "source": [
    "# Add mouvements sociaux data :\n",
    "mouvements_sociaux = (\n",
    "    pd.read_csv(\n",
    "        \"/Users/louisleibovici/Documents/VS_Code/Bike_counters DSB Project/bike_counters/external_data/mouvements-sociaux-depuis-2002.csv\",\n",
    "        date_format=\"%Y%m%d%H\",\n",
    "        sep=\";\"\n",
    "    )\n",
    "    .drop(columns=['date_de_fin', 'Organisations syndicales', 'Métiers ciblés par le préavis',\n",
    "                   'Population devant travailler ciblee par le préavis', 'Nombre de grévistes du préavis'])  # Drop unnecessary columns\n",
    ")\n",
    "\n",
    "mouvements_sociaux['Date'] = pd.to_datetime(mouvements_sociaux['Date'])\n",
    "\n",
    "mouvements_sociaux = mouvements_sociaux[\n",
    "    (mouvements_sociaux[\"Date\"] >= df_train[\"date\"].min() - datetime.timedelta(hours=1))\n",
    "    & (mouvements_sociaux[\"Date\"] <= df_test[\"date\"].max() + datetime.timedelta(hours=1))\n",
    "]\n",
    "\n",
    "mouvements_sociaux = mouvements_sociaux[mouvements_sociaux['Date'] != pd.Timestamp('2021-03-08')]"
   ]
  },
  {
   "cell_type": "code",
   "execution_count": 24,
   "metadata": {},
   "outputs": [],
   "source": [
    "# Extract the date feature on different time scales :\n",
    "\n",
    "fr_holidays = holidays.France()\n",
    "\n",
    "def _encode_dates(X):\n",
    "    X = X.copy()  # Modify a copy of X\n",
    "\n",
    "    # Encode the date information from the DateOfDeparture columns\n",
    "    X[\"year\"] = X[\"date\"].dt.year\n",
    "    X[\"month\"] = X[\"date\"].dt.month\n",
    "    X[\"day\"] = X[\"date\"].dt.day\n",
    "    X[\"weekday\"] = X[\"date\"].dt.weekday\n",
    "    X[\"hour\"] = X[\"date\"].dt.hour\n",
    "\n",
    "    # Creation of a binary variable depicting if the day is a weekend\n",
    "    X[\"is_weekend\"] = np.where(X[\"weekday\"] + 1 > 5, 1, 0)\n",
    "\n",
    "    # Add a feature to indicate if the day is a holiday in France\n",
    "    X[\"is_holiday\"] = X[\"date\"].apply(lambda d: 1 if d in fr_holidays else 0)\n",
    "\n",
    "    # Add a feature to indicate if it is a jour férié in France\n",
    "    X[\"is_jour_ferie\"] = X[\"date\"].dt.date.isin(jour_feries[\"date\"]).astype(int)\n",
    "\n",
    "    # Add a feature to indicate if it is a jour of \"mouvement social\" in France\n",
    "    X[\"is_jour_mouvement_social\"] = X[\"date\"].dt.date.isin(mouvements_sociaux[\"Date\"]).astype(int)\n",
    "\n",
    "    return X\n",
    "\n",
    "df_train = _encode_dates(df_train)\n",
    "df_test = _encode_dates(df_test)\n"
   ]
  },
  {
   "cell_type": "code",
   "execution_count": 25,
   "metadata": {},
   "outputs": [],
   "source": [
    "import geopandas as gpd\n",
    "from shapely.geometry import Point\n",
    "\n",
    "# To add an \"arrondissement\" feature based on latitute ande longitude\n",
    "def arrondissement(X, shapefile_path=\"/Users/louisleibovici/Documents/VS_Code/Bike_counters DSB Project/bike_counters/external_data/arrondissements.shp\"):\n",
    "\n",
    "    arrondissements = gpd.read_file(shapefile_path)\n",
    "\n",
    "    # Create a GeoDataFrame for the input dataset\n",
    "    X = X.copy()  # Work on a copy of the dataset\n",
    "    X[\"geometry\"] = X.apply(lambda row: Point(row[\"longitude\"], row[\"latitude\"]), axis=1)\n",
    "    gdf = gpd.GeoDataFrame(X, geometry=\"geometry\", crs=arrondissements.crs)\n",
    "\n",
    "    # Perform a spatial join to match points to arrondissements\n",
    "    merged = gpd.sjoin(gdf, arrondissements, how=\"left\", predicate=\"within\")\n",
    "\n",
    "    # Extract the arrondissement code (e.g., \"c_ar\") and fill missing values with 21\n",
    "    X[\"district\"] = merged[\"c_ar\"].fillna(21).astype(int)\n",
    "\n",
    "    # Drop the geometry column (optional, if not needed further)\n",
    "    X = X.drop(columns=[\"geometry\"])\n",
    "\n",
    "    return X\n",
    "\n",
    "df_train = arrondissement(df_train)\n",
    "df_test = arrondissement(df_test)"
   ]
  },
  {
   "cell_type": "code",
   "execution_count": 26,
   "metadata": {},
   "outputs": [],
   "source": [
    "df_train = df_train.drop(columns=['date'])\n",
    "df_test = df_test.drop(columns=['date'])"
   ]
  },
  {
   "cell_type": "code",
   "execution_count": 27,
   "metadata": {},
   "outputs": [],
   "source": [
    "# Extract features from counter_installation_date\n",
    "for df in [df_train, df_test]:\n",
    "    df[\"installation_year\"] = df[\"counter_installation_date\"].dt.year\n",
    "    df[\"installation_month\"] = df[\"counter_installation_date\"].dt.month\n",
    "\n",
    "df_train = df_train.drop(columns=[\"counter_installation_date\"])\n",
    "df_test = df_test.drop(columns=[\"counter_installation_date\"])"
   ]
  },
  {
   "cell_type": "code",
   "execution_count": 28,
   "metadata": {},
   "outputs": [],
   "source": [
    "# Preprocessing :\n",
    "\n",
    "# Label encode high-cardinality categorical features\n",
    "label_encoders = {}\n",
    "\n",
    "\n",
    "for col in [\"counter_id\", \"site_id\", \"counter_name\", \"site_name\", \"counter_technical_id\", \"coordinates\"]:\n",
    "    le = LabelEncoder()\n",
    "    df_train[col] = le.fit_transform(df_train[col])\n",
    "    df_test[col] = le.fit_transform(df_test[col])\n",
    "    label_encoders[col] = le\n"
   ]
  },
  {
   "cell_type": "code",
   "execution_count": 29,
   "metadata": {},
   "outputs": [],
   "source": [
    "X_train = df_train.drop(columns=[\"bike_count\", \"log_bike_count\"])\n",
    "y_train = df_train[\"log_bike_count\"]\n",
    "\n",
    "X_test = df_test.copy()"
   ]
  },
  {
   "cell_type": "code",
   "execution_count": 30,
   "metadata": {},
   "outputs": [],
   "source": [
    "# Split the subset into train and validation sets\n",
    "X_train_split, X_val_split, y_train_split, y_val_split = train_test_split(\n",
    "    X_train, y_train, test_size=0.2, random_state=42\n",
    ")"
   ]
  },
  {
   "cell_type": "code",
   "execution_count": 31,
   "metadata": {},
   "outputs": [
    {
     "name": "stderr",
     "output_type": "stream",
     "text": [
      "[I 2024-12-11 12:07:36,088] A new study created in memory with name: no-name-8eb002b1-dc6e-4012-a64d-8d8806443b27\n",
      "[I 2024-12-11 12:07:39,885] Trial 0 finished with value: 0.36084131450792706 and parameters: {'n_estimators': 390, 'learning_rate': 0.10763675131572949, 'max_depth': 8, 'subsample': 0.501419763371572, 'colsample_bytree': 0.9596296260224091, 'reg_alpha': 5.6255065287813775, 'reg_lambda': 6.422166245742959, 'min_child_weight': 0.6919146869536584}. Best is trial 0 with value: 0.36084131450792706.\n",
      "[I 2024-12-11 12:07:40,787] Trial 1 finished with value: 0.5879202044142422 and parameters: {'n_estimators': 215, 'learning_rate': 0.17896666604431075, 'max_depth': 3, 'subsample': 0.5731698599442838, 'colsample_bytree': 0.9958147075943817, 'reg_alpha': 5.532415964996166, 'reg_lambda': 6.816865933997174, 'min_child_weight': 7.823453191686197}. Best is trial 0 with value: 0.36084131450792706.\n",
      "[I 2024-12-11 12:07:41,553] Trial 2 finished with value: 0.794086880956681 and parameters: {'n_estimators': 198, 'learning_rate': 0.03254498669138856, 'max_depth': 3, 'subsample': 0.9096382764904078, 'colsample_bytree': 0.5896466192681185, 'reg_alpha': 3.5780153540570363, 'reg_lambda': 6.254622004596887, 'min_child_weight': 4.666762828557915}. Best is trial 0 with value: 0.36084131450792706.\n",
      "[I 2024-12-11 12:07:45,263] Trial 3 finished with value: 0.354928941223291 and parameters: {'n_estimators': 492, 'learning_rate': 0.2425772388404848, 'max_depth': 7, 'subsample': 0.9354989361129604, 'colsample_bytree': 0.6629707829774623, 'reg_alpha': 3.369429125696135, 'reg_lambda': 4.609307680530438, 'min_child_weight': 9.970730387432566}. Best is trial 3 with value: 0.354928941223291.\n",
      "[I 2024-12-11 12:07:45,762] Trial 4 finished with value: 0.6701731821805312 and parameters: {'n_estimators': 103, 'learning_rate': 0.14924045513938086, 'max_depth': 3, 'subsample': 0.5139366565467665, 'colsample_bytree': 0.9549385365265393, 'reg_alpha': 1.1148536657947352, 'reg_lambda': 5.476097883343031, 'min_child_weight': 6.6959020887286265}. Best is trial 3 with value: 0.354928941223291.\n",
      "[I 2024-12-11 12:07:50,343] Trial 5 finished with value: 0.37409151138960756 and parameters: {'n_estimators': 404, 'learning_rate': 0.024715062940120953, 'max_depth': 10, 'subsample': 0.6412826919463245, 'colsample_bytree': 0.9834980621651122, 'reg_alpha': 0.3672686988990015, 'reg_lambda': 8.409985851387942, 'min_child_weight': 7.0169600698872365}. Best is trial 3 with value: 0.354928941223291.\n",
      "[I 2024-12-11 12:07:53,199] Trial 6 finished with value: 0.3728842754376362 and parameters: {'n_estimators': 402, 'learning_rate': 0.17038759892040697, 'max_depth': 7, 'subsample': 0.9547587515871241, 'colsample_bytree': 0.620494532303163, 'reg_alpha': 8.408127073837433, 'reg_lambda': 2.398659833357433, 'min_child_weight': 4.936685446883299}. Best is trial 3 with value: 0.354928941223291.\n",
      "[I 2024-12-11 12:07:55,510] Trial 7 finished with value: 0.3709837848184387 and parameters: {'n_estimators': 324, 'learning_rate': 0.17596105514937846, 'max_depth': 7, 'subsample': 0.735466011695141, 'colsample_bytree': 0.7462982761844923, 'reg_alpha': 1.6442852592093067, 'reg_lambda': 9.458763145328536, 'min_child_weight': 4.116884866903382}. Best is trial 3 with value: 0.354928941223291.\n",
      "[I 2024-12-11 12:07:59,120] Trial 8 finished with value: 0.36478466116776437 and parameters: {'n_estimators': 418, 'learning_rate': 0.122586809345114, 'max_depth': 8, 'subsample': 0.6873313806897317, 'colsample_bytree': 0.5701772018923752, 'reg_alpha': 0.551624416373109, 'reg_lambda': 6.067949953702571, 'min_child_weight': 9.525879455995105}. Best is trial 3 with value: 0.354928941223291.\n",
      "[I 2024-12-11 12:08:01,647] Trial 9 finished with value: 0.3508268449936231 and parameters: {'n_estimators': 281, 'learning_rate': 0.27487576881756476, 'max_depth': 9, 'subsample': 0.9887956417001382, 'colsample_bytree': 0.5024048133086665, 'reg_alpha': 1.1485837468158608, 'reg_lambda': 8.998672729756567, 'min_child_weight': 9.052933135295055}. Best is trial 9 with value: 0.3508268449936231.\n",
      "[I 2024-12-11 12:08:04,265] Trial 10 finished with value: 0.3530271859990323 and parameters: {'n_estimators': 255, 'learning_rate': 0.2973346769797142, 'max_depth': 10, 'subsample': 0.8283827904617829, 'colsample_bytree': 0.5023477716945959, 'reg_alpha': 9.518109214937319, 'reg_lambda': 0.9290287568089504, 'min_child_weight': 2.1870031885120294}. Best is trial 9 with value: 0.3508268449936231.\n",
      "[I 2024-12-11 12:08:06,879] Trial 11 finished with value: 0.3528274891589381 and parameters: {'n_estimators': 256, 'learning_rate': 0.29981600591267427, 'max_depth': 10, 'subsample': 0.8364066453570281, 'colsample_bytree': 0.5083303495916393, 'reg_alpha': 9.76254077438324, 'reg_lambda': 0.7182814256011264, 'min_child_weight': 1.6170991292081198}. Best is trial 9 with value: 0.3508268449936231.\n",
      "[I 2024-12-11 12:08:09,686] Trial 12 finished with value: 0.3551481767015515 and parameters: {'n_estimators': 302, 'learning_rate': 0.29966463682132566, 'max_depth': 9, 'subsample': 0.8357362078760248, 'colsample_bytree': 0.5087555952879783, 'reg_alpha': 7.4230331964686815, 'reg_lambda': 3.0648840716250647, 'min_child_weight': 2.5716703470740065}. Best is trial 9 with value: 0.3508268449936231.\n",
      "[I 2024-12-11 12:08:10,539] Trial 13 finished with value: 0.4596174392862558 and parameters: {'n_estimators': 146, 'learning_rate': 0.24878519230702434, 'max_depth': 5, 'subsample': 0.8474002345056857, 'colsample_bytree': 0.8297393674328378, 'reg_alpha': 7.05089696100984, 'reg_lambda': 0.18772186562561588, 'min_child_weight': 0.49740686803929357}. Best is trial 9 with value: 0.3508268449936231.\n",
      "[I 2024-12-11 12:08:13,018] Trial 14 finished with value: 0.34418704609917317 and parameters: {'n_estimators': 259, 'learning_rate': 0.240655234853561, 'max_depth': 9, 'subsample': 0.9812956314985652, 'colsample_bytree': 0.6892262365956215, 'reg_alpha': 3.171167750671261, 'reg_lambda': 3.5964608279809926, 'min_child_weight': 2.4393003349417555}. Best is trial 14 with value: 0.34418704609917317.\n",
      "[I 2024-12-11 12:08:15,960] Trial 15 finished with value: 0.34094805659629096 and parameters: {'n_estimators': 306, 'learning_rate': 0.23418923718695026, 'max_depth': 9, 'subsample': 0.9644198328001263, 'colsample_bytree': 0.7243379599991076, 'reg_alpha': 2.8750221907240765, 'reg_lambda': 3.8507224879718622, 'min_child_weight': 3.5061774695984056}. Best is trial 15 with value: 0.34094805659629096.\n",
      "[I 2024-12-11 12:08:18,113] Trial 16 finished with value: 0.38828289112159 and parameters: {'n_estimators': 337, 'learning_rate': 0.21009626558319933, 'max_depth': 6, 'subsample': 0.8784206195955678, 'colsample_bytree': 0.7273115064894096, 'reg_alpha': 2.653034448129953, 'reg_lambda': 3.4925935908099555, 'min_child_weight': 3.399931832112992}. Best is trial 15 with value: 0.34094805659629096.\n",
      "[I 2024-12-11 12:08:20,014] Trial 17 finished with value: 0.34584819569457653 and parameters: {'n_estimators': 194, 'learning_rate': 0.21289727333799238, 'max_depth': 9, 'subsample': 0.9965667036196788, 'colsample_bytree': 0.8144458461312203, 'reg_alpha': 4.245476611417396, 'reg_lambda': 4.042808760147375, 'min_child_weight': 3.4528638819599697}. Best is trial 15 with value: 0.34094805659629096.\n",
      "[I 2024-12-11 12:08:23,040] Trial 18 finished with value: 0.3532563183584108 and parameters: {'n_estimators': 358, 'learning_rate': 0.22532929513991762, 'max_depth': 8, 'subsample': 0.7733567511718393, 'colsample_bytree': 0.6901244861288233, 'reg_alpha': 2.163938543757703, 'reg_lambda': 2.0411987850401085, 'min_child_weight': 5.966243799750862}. Best is trial 15 with value: 0.34094805659629096.\n",
      "[I 2024-12-11 12:08:25,860] Trial 19 finished with value: 0.3687612514157189 and parameters: {'n_estimators': 463, 'learning_rate': 0.2605999495324503, 'max_depth': 6, 'subsample': 0.9010906110449814, 'colsample_bytree': 0.8340188650475759, 'reg_alpha': 4.665829536337796, 'reg_lambda': 7.6294231873168075, 'min_child_weight': 1.4801014053783925}. Best is trial 15 with value: 0.34094805659629096.\n",
      "[I 2024-12-11 12:08:27,210] Trial 20 finished with value: 0.5412835387343172 and parameters: {'n_estimators': 240, 'learning_rate': 0.055622948489843616, 'max_depth': 5, 'subsample': 0.778616341852438, 'colsample_bytree': 0.886532215606549, 'reg_alpha': 2.891934973378791, 'reg_lambda': 4.698509283386756, 'min_child_weight': 3.167760696835215}. Best is trial 15 with value: 0.34094805659629096.\n",
      "[I 2024-12-11 12:08:29,098] Trial 21 finished with value: 0.3481962377442846 and parameters: {'n_estimators': 179, 'learning_rate': 0.2221540318186343, 'max_depth': 9, 'subsample': 0.9883563973188694, 'colsample_bytree': 0.7995660376390457, 'reg_alpha': 4.188822660542031, 'reg_lambda': 3.790550277649487, 'min_child_weight': 3.7241133371817337}. Best is trial 15 with value: 0.34094805659629096.\n",
      "[I 2024-12-11 12:08:30,664] Trial 22 finished with value: 0.358682878734052 and parameters: {'n_estimators': 163, 'learning_rate': 0.2083822205727732, 'max_depth': 9, 'subsample': 0.9995083341197083, 'colsample_bytree': 0.6913995287928801, 'reg_alpha': 4.141995238595598, 'reg_lambda': 4.179917092027177, 'min_child_weight': 5.62006112880985}. Best is trial 15 with value: 0.34094805659629096.\n",
      "[I 2024-12-11 12:08:33,099] Trial 23 finished with value: 0.35373808020892245 and parameters: {'n_estimators': 285, 'learning_rate': 0.19773447852138626, 'max_depth': 8, 'subsample': 0.9555960132801377, 'colsample_bytree': 0.7885830226713354, 'reg_alpha': 5.994197672548132, 'reg_lambda': 2.375030742612834, 'min_child_weight': 2.700606678361465}. Best is trial 15 with value: 0.34094805659629096.\n",
      "[I 2024-12-11 12:08:35,753] Trial 24 finished with value: 0.336605159789444 and parameters: {'n_estimators': 230, 'learning_rate': 0.24092331497444822, 'max_depth': 10, 'subsample': 0.9361310167447108, 'colsample_bytree': 0.8727910695716619, 'reg_alpha': 2.0567485550696625, 'reg_lambda': 5.123988465806679, 'min_child_weight': 3.935593395518155}. Best is trial 24 with value: 0.336605159789444.\n",
      "[I 2024-12-11 12:08:38,362] Trial 25 finished with value: 0.33677789157722465 and parameters: {'n_estimators': 228, 'learning_rate': 0.2732728892814458, 'max_depth': 10, 'subsample': 0.9309386392812035, 'colsample_bytree': 0.8914266667097359, 'reg_alpha': 2.3031615414320123, 'reg_lambda': 5.422882440976027, 'min_child_weight': 4.593141855155926}. Best is trial 24 with value: 0.336605159789444.\n",
      "[I 2024-12-11 12:08:40,931] Trial 26 finished with value: 0.33742661260170126 and parameters: {'n_estimators': 223, 'learning_rate': 0.27169409095242436, 'max_depth': 10, 'subsample': 0.8861840293168124, 'colsample_bytree': 0.8887366857322659, 'reg_alpha': 2.114545662908636, 'reg_lambda': 5.285273019889216, 'min_child_weight': 4.259045543034688}. Best is trial 24 with value: 0.336605159789444.\n",
      "[I 2024-12-11 12:08:43,579] Trial 27 finished with value: 0.3394437597893593 and parameters: {'n_estimators': 224, 'learning_rate': 0.27245555317832526, 'max_depth': 10, 'subsample': 0.8783218224778087, 'colsample_bytree': 0.8996520372532416, 'reg_alpha': 0.0032849744728640218, 'reg_lambda': 7.253095449497087, 'min_child_weight': 4.382942762469969}. Best is trial 24 with value: 0.336605159789444.\n",
      "[I 2024-12-11 12:08:45,298] Trial 28 finished with value: 0.340208934620515 and parameters: {'n_estimators': 148, 'learning_rate': 0.27307207010721773, 'max_depth': 10, 'subsample': 0.9226088675477562, 'colsample_bytree': 0.8819025817198035, 'reg_alpha': 1.876438419725627, 'reg_lambda': 5.3471462340714755, 'min_child_weight': 5.564193138533561}. Best is trial 24 with value: 0.336605159789444.\n",
      "[I 2024-12-11 12:08:47,956] Trial 29 finished with value: 0.33701440450552683 and parameters: {'n_estimators': 229, 'learning_rate': 0.25772467399470533, 'max_depth': 10, 'subsample': 0.8846852784309012, 'colsample_bytree': 0.9087547432819002, 'reg_alpha': 1.2183931757751192, 'reg_lambda': 5.662789835305052, 'min_child_weight': 6.405415579228709}. Best is trial 24 with value: 0.336605159789444.\n",
      "[I 2024-12-11 12:08:49,045] Trial 30 finished with value: 0.38926941776444896 and parameters: {'n_estimators': 119, 'learning_rate': 0.13835041549987626, 'max_depth': 8, 'subsample': 0.796792450316032, 'colsample_bytree': 0.9161781973295443, 'reg_alpha': 1.021091834269174, 'reg_lambda': 7.740573868320884, 'min_child_weight': 8.122108929753622}. Best is trial 24 with value: 0.336605159789444.\n",
      "[I 2024-12-11 12:08:51,630] Trial 31 finished with value: 0.33662835793531787 and parameters: {'n_estimators': 224, 'learning_rate': 0.2637123535202399, 'max_depth': 10, 'subsample': 0.8835247805882769, 'colsample_bytree': 0.9385973883396634, 'reg_alpha': 2.4489140242316374, 'reg_lambda': 5.812459085127256, 'min_child_weight': 6.699200306941238}. Best is trial 24 with value: 0.336605159789444.\n",
      "[I 2024-12-11 12:08:54,235] Trial 32 finished with value: 0.3381009326616888 and parameters: {'n_estimators': 211, 'learning_rate': 0.2580848402659878, 'max_depth': 10, 'subsample': 0.8622334049599322, 'colsample_bytree': 0.9371381592429648, 'reg_alpha': 1.6073070078959504, 'reg_lambda': 6.084361490861655, 'min_child_weight': 6.508216954689264}. Best is trial 24 with value: 0.336605159789444.\n",
      "[I 2024-12-11 12:08:57,218] Trial 33 finished with value: 0.33982343325520253 and parameters: {'n_estimators': 190, 'learning_rate': 0.19052692957724293, 'max_depth': 10, 'subsample': 0.9266372681038065, 'colsample_bytree': 0.8535117544509516, 'reg_alpha': 2.410296365243449, 'reg_lambda': 6.567386627001761, 'min_child_weight': 8.00406410744517}. Best is trial 24 with value: 0.336605159789444.\n",
      "[I 2024-12-11 12:09:00,243] Trial 34 finished with value: 0.3498103355442713 and parameters: {'n_estimators': 230, 'learning_rate': 0.08735816441188989, 'max_depth': 10, 'subsample': 0.810179437088823, 'colsample_bytree': 0.998905859519926, 'reg_alpha': 5.275743345049124, 'reg_lambda': 5.7838398403533455, 'min_child_weight': 7.384487862447877}. Best is trial 24 with value: 0.336605159789444.\n",
      "[I 2024-12-11 12:09:03,098] Trial 35 finished with value: 0.3392146466451561 and parameters: {'n_estimators': 269, 'learning_rate': 0.28266182039509247, 'max_depth': 9, 'subsample': 0.9388951184613238, 'colsample_bytree': 0.9366122003337221, 'reg_alpha': 3.5592314570343717, 'reg_lambda': 7.006792880465081, 'min_child_weight': 6.188641748796036}. Best is trial 24 with value: 0.336605159789444.\n",
      "[I 2024-12-11 12:09:03,985] Trial 36 finished with value: 0.5025621088184468 and parameters: {'n_estimators': 174, 'learning_rate': 0.24911360922952666, 'max_depth': 4, 'subsample': 0.7340216620367173, 'colsample_bytree': 0.9714069427630848, 'reg_alpha': 0.8426295109369626, 'reg_lambda': 5.066068981847262, 'min_child_weight': 5.3035151514424514}. Best is trial 24 with value: 0.336605159789444.\n",
      "[I 2024-12-11 12:09:07,593] Trial 37 finished with value: 0.3367090382333842 and parameters: {'n_estimators': 240, 'learning_rate': 0.23132707782795503, 'max_depth': 10, 'subsample': 0.9041746006653851, 'colsample_bytree': 0.8576949825066592, 'reg_alpha': 1.3258754873172607, 'reg_lambda': 4.565529439494217, 'min_child_weight': 7.545159988299947}. Best is trial 24 with value: 0.336605159789444.\n",
      "[I 2024-12-11 12:09:09,510] Trial 38 finished with value: 0.36492091916967256 and parameters: {'n_estimators': 203, 'learning_rate': 0.16079415207353417, 'max_depth': 8, 'subsample': 0.6302942714283355, 'colsample_bytree': 0.8549676894803286, 'reg_alpha': 0.05559578399894072, 'reg_lambda': 4.824889912114726, 'min_child_weight': 8.468965777877932}. Best is trial 24 with value: 0.336605159789444.\n",
      "[I 2024-12-11 12:09:12,317] Trial 39 finished with value: 0.3440883681642938 and parameters: {'n_estimators': 245, 'learning_rate': 0.23318665517500006, 'max_depth': 9, 'subsample': 0.9196357472666623, 'colsample_bytree': 0.7756297635388358, 'reg_alpha': 3.8001152911665623, 'reg_lambda': 4.378978851774337, 'min_child_weight': 7.209906999312598}. Best is trial 24 with value: 0.336605159789444.\n",
      "[I 2024-12-11 12:09:15,875] Trial 40 finished with value: 0.3451956707601142 and parameters: {'n_estimators': 288, 'learning_rate': 0.28007326429536805, 'max_depth': 10, 'subsample': 0.5287674899268859, 'colsample_bytree': 0.8604784464719009, 'reg_alpha': 1.3417501699607306, 'reg_lambda': 6.573866632755683, 'min_child_weight': 4.756892490423616}. Best is trial 24 with value: 0.336605159789444.\n",
      "[I 2024-12-11 12:09:19,099] Trial 41 finished with value: 0.33752186705071047 and parameters: {'n_estimators': 210, 'learning_rate': 0.25732784127463393, 'max_depth': 10, 'subsample': 0.8985900537746159, 'colsample_bytree': 0.9232465795015615, 'reg_alpha': 0.6567979599927516, 'reg_lambda': 6.297132482733609, 'min_child_weight': 6.705585038094197}. Best is trial 24 with value: 0.336605159789444.\n",
      "[I 2024-12-11 12:09:22,051] Trial 42 finished with value: 0.3379469929734998 and parameters: {'n_estimators': 233, 'learning_rate': 0.2878850829189184, 'max_depth': 10, 'subsample': 0.863372703258016, 'colsample_bytree': 0.9614375729038399, 'reg_alpha': 1.6698577024820451, 'reg_lambda': 5.598620643266188, 'min_child_weight': 7.662212016237101}. Best is trial 24 with value: 0.336605159789444.\n",
      "[I 2024-12-11 12:09:25,540] Trial 43 finished with value: 0.33874540665212505 and parameters: {'n_estimators': 273, 'learning_rate': 0.18692746491765727, 'max_depth': 9, 'subsample': 0.9444466089935857, 'colsample_bytree': 0.9518492580392995, 'reg_alpha': 2.4280791900246577, 'reg_lambda': 5.678564218886869, 'min_child_weight': 5.105692606268617}. Best is trial 24 with value: 0.336605159789444.\n",
      "[I 2024-12-11 12:09:27,412] Trial 44 finished with value: 0.33868414115673146 and parameters: {'n_estimators': 160, 'learning_rate': 0.2627114351335496, 'max_depth': 10, 'subsample': 0.9094372000223496, 'colsample_bytree': 0.9063646943293147, 'reg_alpha': 1.5368745274681483, 'reg_lambda': 4.899132606718808, 'min_child_weight': 8.9460993621}. Best is trial 24 with value: 0.336605159789444.\n",
      "[I 2024-12-11 12:09:31,353] Trial 45 finished with value: 0.3406509157203151 and parameters: {'n_estimators': 315, 'learning_rate': 0.24029600058507114, 'max_depth': 9, 'subsample': 0.8554537358281014, 'colsample_bytree': 0.8763727329275716, 'reg_alpha': 3.2215215908490857, 'reg_lambda': 4.518547861048876, 'min_child_weight': 6.0560713197453415}. Best is trial 24 with value: 0.336605159789444.\n",
      "[I 2024-12-11 12:09:33,144] Trial 46 finished with value: 0.3658325675997085 and parameters: {'n_estimators': 248, 'learning_rate': 0.22092850539275216, 'max_depth': 7, 'subsample': 0.96372560830989, 'colsample_bytree': 0.8374107349565166, 'reg_alpha': 0.43089712623043475, 'reg_lambda': 3.2164031848332186, 'min_child_weight': 6.769731040427504}. Best is trial 24 with value: 0.336605159789444.\n",
      "[I 2024-12-11 12:09:34,699] Trial 47 finished with value: 0.34169051389078103 and parameters: {'n_estimators': 134, 'learning_rate': 0.2510741045937369, 'max_depth': 10, 'subsample': 0.8913015228582318, 'colsample_bytree': 0.926380247977068, 'reg_alpha': 1.1229889782805444, 'reg_lambda': 6.009076359860257, 'min_child_weight': 7.52693543342266}. Best is trial 24 with value: 0.336605159789444.\n",
      "[I 2024-12-11 12:09:38,098] Trial 48 finished with value: 0.3396041918377974 and parameters: {'n_estimators': 339, 'learning_rate': 0.2900158424872166, 'max_depth': 9, 'subsample': 0.8268852725585372, 'colsample_bytree': 0.9795464271828626, 'reg_alpha': 1.9587872680855423, 'reg_lambda': 8.13338904295658, 'min_child_weight': 3.9743724956050186}. Best is trial 24 with value: 0.336605159789444.\n",
      "[I 2024-12-11 12:09:41,088] Trial 49 finished with value: 0.3359484333378738 and parameters: {'n_estimators': 267, 'learning_rate': 0.23131912472401384, 'max_depth': 10, 'subsample': 0.9698109227988079, 'colsample_bytree': 0.7669160892672701, 'reg_alpha': 2.7333110713230804, 'reg_lambda': 6.90084097297034, 'min_child_weight': 4.655571633509011}. Best is trial 49 with value: 0.3359484333378738.\n"
     ]
    },
    {
     "name": "stdout",
     "output_type": "stream",
     "text": [
      "Best Parameters: {'n_estimators': 267, 'learning_rate': 0.23131912472401384, 'max_depth': 10, 'subsample': 0.9698109227988079, 'colsample_bytree': 0.7669160892672701, 'reg_alpha': 2.7333110713230804, 'reg_lambda': 6.90084097297034, 'min_child_weight': 4.655571633509011}\n",
      "Best RMSE: 0.3359484333378738\n"
     ]
    }
   ],
   "source": [
    "# Define the Optuna objective function\n",
    "def objective(trial):\n",
    "    # Suggest hyperparameters\n",
    "    param = {\n",
    "        \"n_estimators\": trial.suggest_int(\"n_estimators\", 100, 500),\n",
    "        \"learning_rate\": trial.suggest_float(\"learning_rate\", 0.01, 0.3),\n",
    "        \"max_depth\": trial.suggest_int(\"max_depth\", 3, 10),\n",
    "        \"subsample\": trial.suggest_float(\"subsample\", 0.5, 1.0),\n",
    "        \"colsample_bytree\": trial.suggest_float(\"colsample_bytree\", 0.5, 1.0),\n",
    "        \"reg_alpha\": trial.suggest_float(\"reg_alpha\", 1e-8, 10.0),\n",
    "        \"reg_lambda\": trial.suggest_float(\"reg_lambda\", 1e-8, 10.0),\n",
    "        \"min_child_weight\": trial.suggest_float(\"min_child_weight\", 1e-8, 10.0),\n",
    "    }\n",
    "\n",
    "    # Initialize and train the model\n",
    "    model = xgb.XGBRegressor(**param, random_state=42)\n",
    "    model.fit(X_train_split, y_train_split)\n",
    "\n",
    "    # Predict on the validation set\n",
    "    y_pred = model.predict(X_val_split)\n",
    "\n",
    "    # Calculate RMSE\n",
    "    rmse = np.sqrt(mean_squared_error(y_val_split, y_pred))\n",
    "    return rmse\n",
    "\n",
    "# Create an Optuna study and optimize\n",
    "study = optuna.create_study(direction=\"minimize\")  # Minimize RMSE\n",
    "study.optimize(objective, n_trials=50, timeout=1200)  # Adjust n_trials and timeout as needed\n",
    "\n",
    "# Get the best parameters and score\n",
    "print(\"Best Parameters:\", study.best_params)\n",
    "print(\"Best RMSE:\", study.best_value)"
   ]
  },
  {
   "cell_type": "code",
   "execution_count": 32,
   "metadata": {},
   "outputs": [],
   "source": [
    "# Train the final model with the best parameters on the full dataset\n",
    "best_params = study.best_params\n",
    "best_model = xgb.XGBRegressor(**best_params, random_state=42)\n",
    "best_model.fit(X_train, y_train)  # Use the full training set for the final model\n",
    "\n",
    "# Predict on the test set\n",
    "y_predictions = best_model.predict(X_test)\n",
    "\n"
   ]
  },
  {
   "cell_type": "code",
   "execution_count": 33,
   "metadata": {},
   "outputs": [
    {
     "name": "stdout",
     "output_type": "stream",
     "text": [
      "[0.5044088 1.7093858 2.1024637 ... 5.474777  4.9322305 3.972835 ]\n"
     ]
    }
   ],
   "source": [
    "print(y_predictions)"
   ]
  },
  {
   "cell_type": "code",
   "execution_count": 34,
   "metadata": {},
   "outputs": [],
   "source": [
    "pd.DataFrame(y_predictions, columns=[\"log_bike_count\"]).reset_index().rename(\n",
    "    columns={\"index\": \"Id\"}\n",
    ").to_csv(\"/Users/louisleibovici/Documents/VS_Code/Bike_counters DSB Project/bike_counters/predictions_XGBoost_Optuna_sanspipeline.csv\", index=False)"
   ]
  }
 ],
 "metadata": {
  "kernelspec": {
   "display_name": "base",
   "language": "python",
   "name": "python3"
  },
  "language_info": {
   "codemirror_mode": {
    "name": "ipython",
    "version": 3
   },
   "file_extension": ".py",
   "mimetype": "text/x-python",
   "name": "python",
   "nbconvert_exporter": "python",
   "pygments_lexer": "ipython3",
   "version": "3.12.0"
  }
 },
 "nbformat": 4,
 "nbformat_minor": 2
}
