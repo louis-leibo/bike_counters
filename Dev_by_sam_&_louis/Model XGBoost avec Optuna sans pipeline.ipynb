{
 "cells": [
  {
   "cell_type": "code",
   "execution_count": 47,
   "metadata": {},
   "outputs": [],
   "source": [
    "import pandas as pd\n",
    "import numpy as np\n",
    "import xgboost as xgb\n",
    "import holidays\n",
    "from datetime import datetime\n",
    "from sklearn.metrics import mean_squared_error\n",
    "from sklearn.model_selection import train_test_split\n",
    "import optuna\n",
    "import datetime\n",
    "from sklearn.metrics import mean_squared_error\n",
    "from sklearn.preprocessing import LabelEncoder"
   ]
  },
  {
   "cell_type": "code",
   "execution_count": 48,
   "metadata": {},
   "outputs": [],
   "source": [
    "# Import the files\n",
    "df_train = pd.read_parquet(\"/Users/louisleibovici/Documents/VS_Code/Bike_counters DSB Project/bike_counters/data/train.parquet\")\n",
    "df_test = pd.read_parquet(\"/Users/louisleibovici/Documents/VS_Code/Bike_counters DSB Project/bike_counters/data/final_test.parquet\")\n",
    "# df_train = pd.read_parquet(\"/Users/srazjman/Python/bike_counters/data/train.parquet\")\n",
    "# df_test = pd.read_parquet(\"/Users/srazjman/Python/bike_counters//data/final_test.parquet\")"
   ]
  },
  {
   "cell_type": "code",
   "execution_count": 49,
   "metadata": {},
   "outputs": [],
   "source": [
    "# Add jour ferie data\n",
    "jour_feries = (\n",
    "    pd.read_csv(\n",
    "        \"/Users/louisleibovici/Documents/VS_Code/Bike_counters DSB Project/bike_counters/external_data/jours_feries_metropole.csv\",\n",
    "        # \"/Users/srazjman/Python/bike_counters/external_data/jours_feries_metropole.csv\",\n",
    "        date_format=\"%Y%m%d%H\"\n",
    "    )\n",
    "    .drop(columns=[\"annee\", \"zone\"])\n",
    ")\n",
    "\n",
    "#We convert 'date' column to datetime\n",
    "jour_feries['date'] = pd.to_datetime(jour_feries['date'])\n",
    "\n",
    "#We know filter rows based on the date range of df_train and df_test :\n",
    "jour_feries = jour_feries[\n",
    "    (jour_feries[\"date\"] >= df_train[\"date\"].min() - datetime.timedelta(hours=1))\n",
    "    & (jour_feries[\"date\"] <= df_test[\"date\"].max() + datetime.timedelta(hours=1))\n",
    "]"
   ]
  },
  {
   "cell_type": "code",
   "execution_count": 50,
   "metadata": {},
   "outputs": [],
   "source": [
    "#With the same way, we add mouvements sociaux data :\n",
    "mouvements_sociaux = (\n",
    "    pd.read_csv(\n",
    "        \"/Users/louisleibovici/Documents/VS_Code/Bike_counters DSB Project/bike_counters/external_data/mouvements-sociaux-depuis-2002.csv\",\n",
    "        # \"/Users/srazjman/Python/bike_counters/external_data/mouvements-sociaux-depuis-2002.csv\",\n",
    "        date_format=\"%Y%m%d%H\",\n",
    "        sep=\";\"\n",
    "    )\n",
    "    .drop(columns=['date_de_fin', 'Organisations syndicales', 'Métiers ciblés par le préavis',\n",
    "                   'Population devant travailler ciblee par le préavis', 'Nombre de grévistes du préavis'])\n",
    ")\n",
    "\n",
    "mouvements_sociaux['Date'] = pd.to_datetime(mouvements_sociaux['Date'])\n",
    "mouvements_sociaux = mouvements_sociaux[\n",
    "    (mouvements_sociaux[\"Date\"] >= df_train[\"date\"].min() - datetime.timedelta(hours=1))\n",
    "    & (mouvements_sociaux[\"Date\"] <= df_test[\"date\"].max() + datetime.timedelta(hours=1))\n",
    "]\n",
    "mouvements_sociaux = mouvements_sociaux[mouvements_sociaux['Date'] != pd.Timestamp('2021-03-08')]"
   ]
  },
  {
   "cell_type": "code",
   "execution_count": 51,
   "metadata": {},
   "outputs": [],
   "source": [
    "# Extract the date feature on different time scales :\n",
    "\n",
    "fr_holidays = holidays.France()\n",
    "\n",
    "def _encode_dates(X):\n",
    "    X = X.copy()\n",
    "\n",
    "    #We first encode the date information from the DateOfDeparture columns\n",
    "    X[\"year\"] = X[\"date\"].dt.year\n",
    "    X[\"month\"] = X[\"date\"].dt.month\n",
    "    X[\"day\"] = X[\"date\"].dt.day\n",
    "    X[\"weekday\"] = X[\"date\"].dt.weekday\n",
    "    X[\"hour\"] = X[\"date\"].dt.hour\n",
    "\n",
    "    #Then, we create a binary variable depicting if the day is a weekend\n",
    "    X[\"is_weekend\"] = np.where(X[\"weekday\"] + 1 > 5, 1, 0)\n",
    "\n",
    "    #We add a feature to indicate if the day is a holiday in France\n",
    "    X[\"is_holiday\"] = X[\"date\"].apply(lambda d: 1 if d in fr_holidays else 0)\n",
    "\n",
    "    #Same if it is a jour férié in France\n",
    "    X[\"is_jour_ferie\"] = X[\"date\"].dt.date.isin(jour_feries[\"date\"]).astype(int)\n",
    "\n",
    "    #And finally, same if it is a jour of \"mouvement social\" in France\n",
    "    X[\"is_jour_mouvement_social\"] = X[\"date\"].dt.date.isin(mouvements_sociaux[\"Date\"]).astype(int)\n",
    "\n",
    "    return X\n",
    "\n",
    "df_train = _encode_dates(df_train)\n",
    "df_test = _encode_dates(df_test)\n"
   ]
  },
  {
   "cell_type": "code",
   "execution_count": 52,
   "metadata": {},
   "outputs": [],
   "source": [
    "import geopandas as gpd\n",
    "from shapely.geometry import Point\n",
    "\n",
    "# To add an \"arrondissement\" feature based on latitute and longitude\n",
    "# def arrondissement(X, shapefile_path=\"/Users/srazman/Python/bike_counters/external_data/arrondissements.shp\"):\n",
    "def arrondissement(X, shapefile_path=\"/Users/louisleibovici/Documents/VS_Code/Bike_counters DSB Project/bike_counters/external_data/arrondissements.shp\"):\n",
    "\n",
    "    arrondissements = gpd.read_file(shapefile_path)\n",
    "\n",
    "    #We create a \"GeoDataFrame\" for the input dataset\n",
    "    X = X.copy()\n",
    "    X[\"geometry\"] = X.apply(lambda row: Point(row[\"longitude\"], row[\"latitude\"]), axis=1)\n",
    "    gdf = gpd.GeoDataFrame(X, geometry=\"geometry\", crs=arrondissements.crs)\n",
    "\n",
    "    #Then, perform a spatial join to match points to arrondissements\n",
    "    merged = gpd.sjoin(gdf, arrondissements, how=\"left\", predicate=\"within\")\n",
    "\n",
    "    #And extract the arrondissement code\n",
    "    X[\"district\"] = merged[\"c_ar\"].fillna(21).astype(int)\n",
    "    X = X.drop(columns=[\"geometry\"])\n",
    "\n",
    "    return X\n",
    "\n",
    "df_train = arrondissement(df_train)\n",
    "df_test = arrondissement(df_test)"
   ]
  },
  {
   "cell_type": "code",
   "execution_count": 53,
   "metadata": {},
   "outputs": [],
   "source": [
    "df_train = df_train.drop(columns=['date'])\n",
    "df_test = df_test.drop(columns=['date'])"
   ]
  },
  {
   "cell_type": "code",
   "execution_count": 54,
   "metadata": {},
   "outputs": [],
   "source": [
    "# Extract features from counter_installation_date\n",
    "for df in [df_train, df_test]:\n",
    "    df[\"installation_year\"] = df[\"counter_installation_date\"].dt.year\n",
    "    df[\"installation_month\"] = df[\"counter_installation_date\"].dt.month\n",
    "\n",
    "df_train = df_train.drop(columns=[\"counter_installation_date\"])\n",
    "df_test = df_test.drop(columns=[\"counter_installation_date\"])"
   ]
  },
  {
   "cell_type": "code",
   "execution_count": 55,
   "metadata": {},
   "outputs": [],
   "source": [
    "# Preprocessing :\n",
    "\n",
    "# Label encode high-cardinality categorical features\n",
    "label_encoders = {}\n",
    "\n",
    "\n",
    "for col in [\"counter_id\", \"site_id\", \"counter_name\", \"site_name\", \"counter_technical_id\", \"coordinates\"]:\n",
    "    le = LabelEncoder()\n",
    "    df_train[col] = le.fit_transform(df_train[col])\n",
    "    df_test[col] = le.fit_transform(df_test[col])\n",
    "    label_encoders[col] = le\n"
   ]
  },
  {
   "cell_type": "code",
   "execution_count": 56,
   "metadata": {},
   "outputs": [],
   "source": [
    "X_train = df_train.drop(columns=[\"bike_count\", \"log_bike_count\"])\n",
    "y_train = df_train[\"log_bike_count\"]\n",
    "\n",
    "X_test = df_test.copy()"
   ]
  },
  {
   "cell_type": "code",
   "execution_count": 57,
   "metadata": {},
   "outputs": [],
   "source": [
    "#We choose to split the subset into train and validation sets as follows :\n",
    "X_train_split, X_val_split, y_train_split, y_val_split = train_test_split(\n",
    "    X_train, y_train, test_size=0.2, random_state=42\n",
    ")"
   ]
  },
  {
   "cell_type": "code",
   "execution_count": 58,
   "metadata": {},
   "outputs": [
    {
     "name": "stderr",
     "output_type": "stream",
     "text": [
      "[I 2024-12-11 19:01:39,402] A new study created in memory with name: no-name-8c5374eb-b376-4f38-8495-9f1063671968\n",
      "[I 2024-12-11 19:01:41,420] Trial 0 finished with value: 0.36348593700602394 and parameters: {'n_estimators': 197, 'learning_rate': 0.18065442040011734, 'max_depth': 8, 'subsample': 0.5335241801818325, 'colsample_bytree': 0.8618410120867152, 'reg_alpha': 0.2940607949264482, 'reg_lambda': 4.074124270750903, 'min_child_weight': 4.953201673757237}. Best is trial 0 with value: 0.36348593700602394.\n",
      "[I 2024-12-11 19:01:43,074] Trial 1 finished with value: 0.38439453831843773 and parameters: {'n_estimators': 150, 'learning_rate': 0.10367239143464763, 'max_depth': 9, 'subsample': 0.5628512959113763, 'colsample_bytree': 0.6802109461770078, 'reg_alpha': 2.383768777776607, 'reg_lambda': 2.3235455490122994, 'min_child_weight': 0.9196906006372447}. Best is trial 0 with value: 0.36348593700602394.\n",
      "[I 2024-12-11 19:01:43,838] Trial 2 finished with value: 0.5640619054416821 and parameters: {'n_estimators': 174, 'learning_rate': 0.2931158669110254, 'max_depth': 3, 'subsample': 0.9282226617029836, 'colsample_bytree': 0.9121331167994894, 'reg_alpha': 2.106453872826475, 'reg_lambda': 7.780935972315179, 'min_child_weight': 1.051831736415098}. Best is trial 0 with value: 0.36348593700602394.\n",
      "[I 2024-12-11 19:01:47,772] Trial 3 finished with value: 0.3492489434115123 and parameters: {'n_estimators': 178, 'learning_rate': 0.2648970892981796, 'max_depth': 10, 'subsample': 0.5878848253890889, 'colsample_bytree': 0.6925313298036819, 'reg_alpha': 2.4581570757022453, 'reg_lambda': 3.571333348030371, 'min_child_weight': 6.901466729173896}. Best is trial 3 with value: 0.3492489434115123.\n",
      "[I 2024-12-11 19:01:49,402] Trial 4 finished with value: 0.39723535806492866 and parameters: {'n_estimators': 132, 'learning_rate': 0.20206696714878544, 'max_depth': 7, 'subsample': 0.9694823354241385, 'colsample_bytree': 0.804439087765105, 'reg_alpha': 4.796425621018303, 'reg_lambda': 6.585190646512764, 'min_child_weight': 9.4533643284361}. Best is trial 3 with value: 0.3492489434115123.\n",
      "[I 2024-12-11 19:01:54,187] Trial 5 finished with value: 0.34182232626768644 and parameters: {'n_estimators': 457, 'learning_rate': 0.2679465180526208, 'max_depth': 8, 'subsample': 0.923111072624899, 'colsample_bytree': 0.8128279011102917, 'reg_alpha': 2.606329348734865, 'reg_lambda': 7.270883136141619, 'min_child_weight': 2.910164669720231}. Best is trial 5 with value: 0.34182232626768644.\n",
      "[I 2024-12-11 19:01:55,248] Trial 6 finished with value: 0.609917453750265 and parameters: {'n_estimators': 292, 'learning_rate': 0.11430997098269009, 'max_depth': 3, 'subsample': 0.899400038151601, 'colsample_bytree': 0.7644253130202854, 'reg_alpha': 5.8639317245545275, 'reg_lambda': 7.857492951166085, 'min_child_weight': 4.716521586379835}. Best is trial 5 with value: 0.34182232626768644.\n",
      "[I 2024-12-11 19:01:58,083] Trial 7 finished with value: 0.3977315116781886 and parameters: {'n_estimators': 395, 'learning_rate': 0.07669434286877362, 'max_depth': 7, 'subsample': 0.7292221910917844, 'colsample_bytree': 0.7418586371460986, 'reg_alpha': 7.094751045265747, 'reg_lambda': 7.608908030468398, 'min_child_weight': 5.267862144895068}. Best is trial 5 with value: 0.34182232626768644.\n",
      "[I 2024-12-11 19:02:00,454] Trial 8 finished with value: 0.37774706284028686 and parameters: {'n_estimators': 329, 'learning_rate': 0.1645599803565435, 'max_depth': 7, 'subsample': 0.7421515955300106, 'colsample_bytree': 0.6209749897392747, 'reg_alpha': 2.364293797992491, 'reg_lambda': 5.37078840954758, 'min_child_weight': 2.382398221605719}. Best is trial 5 with value: 0.34182232626768644.\n",
      "[I 2024-12-11 19:02:03,459] Trial 9 finished with value: 0.3766561923976242 and parameters: {'n_estimators': 401, 'learning_rate': 0.09869257149258992, 'max_depth': 7, 'subsample': 0.5451081485889344, 'colsample_bytree': 0.896464227592477, 'reg_alpha': 2.5416858165391907, 'reg_lambda': 4.6905211053634766, 'min_child_weight': 5.035934175885169}. Best is trial 5 with value: 0.34182232626768644.\n",
      "[I 2024-12-11 19:02:06,686] Trial 10 finished with value: 0.6589118773406659 and parameters: {'n_estimators': 444, 'learning_rate': 0.013668286583415457, 'max_depth': 5, 'subsample': 0.8438537831521095, 'colsample_bytree': 0.5239558009323214, 'reg_alpha': 8.327044931402625, 'reg_lambda': 9.687180971049749, 'min_child_weight': 2.7377807621539154}. Best is trial 5 with value: 0.34182232626768644.\n",
      "[I 2024-12-11 19:02:12,957] Trial 11 finished with value: 0.3423564561595776 and parameters: {'n_estimators': 497, 'learning_rate': 0.2832532810157773, 'max_depth': 10, 'subsample': 0.6590460062221247, 'colsample_bytree': 0.6423363484171308, 'reg_alpha': 4.40551063852632, 'reg_lambda': 0.7404542503506031, 'min_child_weight': 8.152996811972319}. Best is trial 5 with value: 0.34182232626768644.\n",
      "[I 2024-12-11 19:02:19,315] Trial 12 finished with value: 0.33795885693260347 and parameters: {'n_estimators': 493, 'learning_rate': 0.23240094483432244, 'max_depth': 10, 'subsample': 0.6628115147971876, 'colsample_bytree': 0.9833244332722622, 'reg_alpha': 4.71223626451592, 'reg_lambda': 0.16546386395116652, 'min_child_weight': 9.187646687248417}. Best is trial 12 with value: 0.33795885693260347.\n",
      "[I 2024-12-11 19:02:24,479] Trial 13 finished with value: 0.3411819101091049 and parameters: {'n_estimators': 488, 'learning_rate': 0.23454057387868676, 'max_depth': 9, 'subsample': 0.8287267844925492, 'colsample_bytree': 0.982266435243135, 'reg_alpha': 9.727554206752561, 'reg_lambda': 0.6261420809366838, 'min_child_weight': 3.329740249231362}. Best is trial 12 with value: 0.33795885693260347.\n",
      "[I 2024-12-11 19:02:29,271] Trial 14 finished with value: 0.3407617056158116 and parameters: {'n_estimators': 495, 'learning_rate': 0.22033527022220345, 'max_depth': 9, 'subsample': 0.8451016098266411, 'colsample_bytree': 0.9973564125232005, 'reg_alpha': 9.912651183989542, 'reg_lambda': 0.005313659382701674, 'min_child_weight': 9.89758296076712}. Best is trial 12 with value: 0.33795885693260347.\n",
      "[I 2024-12-11 19:02:31,608] Trial 15 finished with value: 0.4126565430728813 and parameters: {'n_estimators': 328, 'learning_rate': 0.231291768836958, 'max_depth': 5, 'subsample': 0.6687187558542754, 'colsample_bytree': 0.9845911803515639, 'reg_alpha': 6.220882228755839, 'reg_lambda': 0.012163967510445406, 'min_child_weight': 9.971888002133726}. Best is trial 12 with value: 0.33795885693260347.\n",
      "[I 2024-12-11 19:02:35,368] Trial 16 finished with value: 0.34413080039887733 and parameters: {'n_estimators': 399, 'learning_rate': 0.21602517723697903, 'max_depth': 9, 'subsample': 0.7884722367105763, 'colsample_bytree': 0.9343648198730842, 'reg_alpha': 9.790556572406786, 'reg_lambda': 1.7209551819523445, 'min_child_weight': 8.355494517805619}. Best is trial 12 with value: 0.33795885693260347.\n",
      "[I 2024-12-11 19:02:38,783] Trial 17 finished with value: 0.3467263975731223 and parameters: {'n_estimators': 241, 'learning_rate': 0.1431656170655952, 'max_depth': 10, 'subsample': 0.6578881874584581, 'colsample_bytree': 0.9809772910799868, 'reg_alpha': 7.986403867929822, 'reg_lambda': 2.302586703799209, 'min_child_weight': 7.099065733646365}. Best is trial 12 with value: 0.33795885693260347.\n",
      "[I 2024-12-11 19:02:40,957] Trial 18 finished with value: 0.40150456116002864 and parameters: {'n_estimators': 427, 'learning_rate': 0.25124705233669786, 'max_depth': 5, 'subsample': 0.7076379174957903, 'colsample_bytree': 0.8551876567622476, 'reg_alpha': 4.277632389509999, 'reg_lambda': 1.5739124822547084, 'min_child_weight': 8.725658512505124}. Best is trial 12 with value: 0.33795885693260347.\n",
      "[I 2024-12-11 19:02:44,530] Trial 19 finished with value: 0.34285374952414627 and parameters: {'n_estimators': 364, 'learning_rate': 0.19512131832984625, 'max_depth': 9, 'subsample': 0.6134797093009924, 'colsample_bytree': 0.951149822173482, 'reg_alpha': 3.5610764003081825, 'reg_lambda': 2.964676621851175, 'min_child_weight': 6.700751705171843}. Best is trial 12 with value: 0.33795885693260347.\n",
      "[I 2024-12-11 19:02:48,474] Trial 20 finished with value: 0.3473648770473352 and parameters: {'n_estimators': 475, 'learning_rate': 0.15748710638637142, 'max_depth': 8, 'subsample': 0.834531174655558, 'colsample_bytree': 0.8731374946728895, 'reg_alpha': 5.835607415543194, 'reg_lambda': 0.2330529101786904, 'min_child_weight': 9.086047365100706}. Best is trial 12 with value: 0.33795885693260347.\n",
      "[I 2024-12-11 19:02:53,076] Trial 21 finished with value: 0.34191755752751607 and parameters: {'n_estimators': 500, 'learning_rate': 0.23385823771555878, 'max_depth': 9, 'subsample': 0.7994262589481479, 'colsample_bytree': 0.986743323952825, 'reg_alpha': 9.965157727551656, 'reg_lambda': 1.0166586909792033, 'min_child_weight': 3.652136604852276}. Best is trial 12 with value: 0.33795885693260347.\n",
      "[I 2024-12-11 19:02:58,043] Trial 22 finished with value: 0.3365985552175553 and parameters: {'n_estimators': 467, 'learning_rate': 0.22557795089767485, 'max_depth': 10, 'subsample': 0.8631273737733507, 'colsample_bytree': 0.9465297664253078, 'reg_alpha': 8.848250016841714, 'reg_lambda': 1.024149263462994, 'min_child_weight': 7.6721823918910275}. Best is trial 22 with value: 0.3365985552175553.\n",
      "[I 2024-12-11 19:03:02,709] Trial 23 finished with value: 0.3367269654680345 and parameters: {'n_estimators': 438, 'learning_rate': 0.21004597692425991, 'max_depth': 10, 'subsample': 0.8821222938590755, 'colsample_bytree': 0.935863774094449, 'reg_alpha': 8.582121783442897, 'reg_lambda': 1.3217563342768819, 'min_child_weight': 7.721698134449474}. Best is trial 22 with value: 0.3365985552175553.\n",
      "[I 2024-12-11 19:03:07,284] Trial 24 finished with value: 0.3337972342955555 and parameters: {'n_estimators': 434, 'learning_rate': 0.1916191075589789, 'max_depth': 10, 'subsample': 0.9955902700544297, 'colsample_bytree': 0.9388507900844123, 'reg_alpha': 8.400987538019688, 'reg_lambda': 1.4791116523118895, 'min_child_weight': 7.773421216542449}. Best is trial 24 with value: 0.3337972342955555.\n",
      "[I 2024-12-11 19:03:11,862] Trial 25 finished with value: 0.33447496011499767 and parameters: {'n_estimators': 429, 'learning_rate': 0.18642694664228557, 'max_depth': 10, 'subsample': 0.9999297315782003, 'colsample_bytree': 0.926626353052649, 'reg_alpha': 8.767852694677341, 'reg_lambda': 2.978263693888133, 'min_child_weight': 7.762862719952827}. Best is trial 24 with value: 0.3337972342955555.\n",
      "[I 2024-12-11 19:03:15,499] Trial 26 finished with value: 0.33705883941056053 and parameters: {'n_estimators': 352, 'learning_rate': 0.13789547725512996, 'max_depth': 10, 'subsample': 0.9960082000598186, 'colsample_bytree': 0.8346149455483984, 'reg_alpha': 7.33353381515201, 'reg_lambda': 2.5753788561257225, 'min_child_weight': 6.090393451151177}. Best is trial 24 with value: 0.3337972342955555.\n",
      "[I 2024-12-11 19:03:18,822] Trial 27 finished with value: 0.34673607003242773 and parameters: {'n_estimators': 417, 'learning_rate': 0.17974409956571166, 'max_depth': 8, 'subsample': 0.9619171512874525, 'colsample_bytree': 0.9067737124975215, 'reg_alpha': 8.904284016447273, 'reg_lambda': 3.191240684171532, 'min_child_weight': 7.675205547849117}. Best is trial 24 with value: 0.3337972342955555.\n",
      "[I 2024-12-11 19:03:20,398] Trial 28 finished with value: 0.40159933980196194 and parameters: {'n_estimators': 270, 'learning_rate': 0.17557122655121768, 'max_depth': 6, 'subsample': 0.9967766544954064, 'colsample_bytree': 0.7921623096436755, 'reg_alpha': 7.309493141110393, 'reg_lambda': 4.075535975620471, 'min_child_weight': 5.938165177272086}. Best is trial 24 with value: 0.3337972342955555.\n",
      "[I 2024-12-11 19:03:23,485] Trial 29 finished with value: 0.3497595488457169 and parameters: {'n_estimators': 378, 'learning_rate': 0.19135251335507508, 'max_depth': 8, 'subsample': 0.9522637514473028, 'colsample_bytree': 0.870575616153338, 'reg_alpha': 9.066780297743735, 'reg_lambda': 4.1253432289528185, 'min_child_weight': 7.550512245757154}. Best is trial 24 with value: 0.3337972342955555.\n",
      "[I 2024-12-11 19:03:28,601] Trial 30 finished with value: 0.33354163022992384 and parameters: {'n_estimators': 464, 'learning_rate': 0.13810687988906786, 'max_depth': 10, 'subsample': 0.8815046342755173, 'colsample_bytree': 0.9497509698985142, 'reg_alpha': 0.7440999736785399, 'reg_lambda': 1.9131103905454747, 'min_child_weight': 6.196398642835218}. Best is trial 30 with value: 0.33354163022992384.\n",
      "[I 2024-12-11 19:03:33,675] Trial 31 finished with value: 0.33371750800236716 and parameters: {'n_estimators': 463, 'learning_rate': 0.1290484266673275, 'max_depth': 10, 'subsample': 0.8730570563805987, 'colsample_bytree': 0.9464414874906326, 'reg_alpha': 0.9279432768057246, 'reg_lambda': 1.9217540508439015, 'min_child_weight': 6.155342912662334}. Best is trial 30 with value: 0.33354163022992384.\n",
      "[I 2024-12-11 19:03:37,795] Trial 32 finished with value: 0.33665167778893923 and parameters: {'n_estimators': 452, 'learning_rate': 0.13717748028172072, 'max_depth': 9, 'subsample': 0.9261691779202345, 'colsample_bytree': 0.8936051884063481, 'reg_alpha': 1.0136388165213577, 'reg_lambda': 2.0066752924686666, 'min_child_weight': 5.99311994389011}. Best is trial 30 with value: 0.33354163022992384.\n",
      "[I 2024-12-11 19:03:42,340] Trial 33 finished with value: 0.33544795354423285 and parameters: {'n_estimators': 409, 'learning_rate': 0.0712823700323065, 'max_depth': 10, 'subsample': 0.9001885760510624, 'colsample_bytree': 0.9257285898860983, 'reg_alpha': 0.35543552750374285, 'reg_lambda': 2.728247729897943, 'min_child_weight': 4.4942379887161845}. Best is trial 30 with value: 0.33354163022992384.\n",
      "[I 2024-12-11 19:03:46,365] Trial 34 finished with value: 0.33905854714339917 and parameters: {'n_estimators': 430, 'learning_rate': 0.12197450368716736, 'max_depth': 9, 'subsample': 0.7815234332832747, 'colsample_bytree': 0.9523889369047935, 'reg_alpha': 1.4653760767732749, 'reg_lambda': 3.5129937322104654, 'min_child_weight': 6.405697498382217}. Best is trial 30 with value: 0.33354163022992384.\n",
      "[I 2024-12-11 19:03:51,249] Trial 35 finished with value: 0.33260350008257 and parameters: {'n_estimators': 459, 'learning_rate': 0.09029005272153295, 'max_depth': 10, 'subsample': 0.9545764452762925, 'colsample_bytree': 0.8588791847762373, 'reg_alpha': 0.5216216188919376, 'reg_lambda': 2.022914325819182, 'min_child_weight': 5.513713288501068}. Best is trial 35 with value: 0.33260350008257.\n",
      "[I 2024-12-11 19:03:52,416] Trial 36 finished with value: 0.41814399671423325 and parameters: {'n_estimators': 103, 'learning_rate': 0.0807106757369631, 'max_depth': 9, 'subsample': 0.9484412952065265, 'colsample_bytree': 0.8618754312215893, 'reg_alpha': 0.10383284977765272, 'reg_lambda': 1.9481151473988632, 'min_child_weight': 5.39328279064519}. Best is trial 35 with value: 0.33260350008257.\n",
      "[I 2024-12-11 19:03:55,965] Trial 37 finished with value: 0.36895559374738146 and parameters: {'n_estimators': 468, 'learning_rate': 0.0581048523494571, 'max_depth': 8, 'subsample': 0.8860364456958589, 'colsample_bytree': 0.8312465133308857, 'reg_alpha': 1.448381779327434, 'reg_lambda': 5.261202191667659, 'min_child_weight': 4.017941110497113}. Best is trial 35 with value: 0.33260350008257.\n",
      "[I 2024-12-11 19:03:57,648] Trial 38 finished with value: 0.611650919213108 and parameters: {'n_estimators': 383, 'learning_rate': 0.03570671426247038, 'max_depth': 4, 'subsample': 0.9119413690186756, 'colsample_bytree': 0.8879090264058889, 'reg_alpha': 3.289347092074514, 'reg_lambda': 2.277225547345527, 'min_child_weight': 5.593980984277474}. Best is trial 35 with value: 0.33260350008257.\n",
      "[I 2024-12-11 19:04:00,182] Trial 39 finished with value: 0.35187195450291303 and parameters: {'n_estimators': 222, 'learning_rate': 0.10189558535474912, 'max_depth': 10, 'subsample': 0.5036082619691573, 'colsample_bytree': 0.7775794735224948, 'reg_alpha': 0.9584754803643103, 'reg_lambda': 6.183310024195694, 'min_child_weight': 0.3327046245247658}. Best is trial 35 with value: 0.33260350008257.\n",
      "[I 2024-12-11 19:04:05,015] Trial 40 finished with value: 0.3354451688099133 and parameters: {'n_estimators': 458, 'learning_rate': 0.12558325853384672, 'max_depth': 10, 'subsample': 0.9420639874269351, 'colsample_bytree': 0.7359389052113625, 'reg_alpha': 1.8063891079647372, 'reg_lambda': 4.57045019223221, 'min_child_weight': 6.9439586711941415}. Best is trial 35 with value: 0.33260350008257.\n",
      "[I 2024-12-11 19:04:09,721] Trial 41 finished with value: 0.33334561482743963 and parameters: {'n_estimators': 437, 'learning_rate': 0.16733440172619757, 'max_depth': 10, 'subsample': 0.9817059382450051, 'colsample_bytree': 0.9206510728236554, 'reg_alpha': 0.7367298072326155, 'reg_lambda': 1.3615241754957288, 'min_child_weight': 6.497130984356254}. Best is trial 35 with value: 0.33260350008257.\n",
      "[I 2024-12-11 19:04:14,106] Trial 42 finished with value: 0.3344736417221999 and parameters: {'n_estimators': 474, 'learning_rate': 0.16423384061028046, 'max_depth': 9, 'subsample': 0.9751912681442709, 'colsample_bytree': 0.9629277085032125, 'reg_alpha': 0.6691902734702719, 'reg_lambda': 1.399153636799704, 'min_child_weight': 4.358514997943683}. Best is trial 35 with value: 0.33260350008257.\n",
      "[I 2024-12-11 19:04:18,838] Trial 43 finished with value: 0.3321900933897034 and parameters: {'n_estimators': 442, 'learning_rate': 0.09190494416963677, 'max_depth': 10, 'subsample': 0.9712687458450506, 'colsample_bytree': 0.9139798263900026, 'reg_alpha': 0.048127607220994406, 'reg_lambda': 3.5042001684930915, 'min_child_weight': 6.606621091069917}. Best is trial 43 with value: 0.3321900933897034.\n",
      "[I 2024-12-11 19:04:23,631] Trial 44 finished with value: 0.33288398461209395 and parameters: {'n_estimators': 448, 'learning_rate': 0.09072722186111937, 'max_depth': 10, 'subsample': 0.9291956180339335, 'colsample_bytree': 0.9093981659128211, 'reg_alpha': 0.1367048913270943, 'reg_lambda': 3.658978535652471, 'min_child_weight': 6.483727293134629}. Best is trial 43 with value: 0.3321900933897034.\n",
      "[I 2024-12-11 19:04:28,498] Trial 45 finished with value: 0.33390705934749687 and parameters: {'n_estimators': 447, 'learning_rate': 0.08889368752592951, 'max_depth': 10, 'subsample': 0.9297722583977933, 'colsample_bytree': 0.8409430619475434, 'reg_alpha': 0.14558301458063666, 'reg_lambda': 3.5503867246699325, 'min_child_weight': 4.86820281745258}. Best is trial 43 with value: 0.3321900933897034.\n",
      "[I 2024-12-11 19:04:31,558] Trial 46 finished with value: 0.36209531100274817 and parameters: {'n_estimators': 345, 'learning_rate': 0.05743771155989087, 'max_depth': 9, 'subsample': 0.9792221018350005, 'colsample_bytree': 0.9159047082969443, 'reg_alpha': 1.8532644828096427, 'reg_lambda': 5.99541819209295, 'min_child_weight': 6.613791134046487}. Best is trial 43 with value: 0.3321900933897034.\n",
      "[I 2024-12-11 19:04:34,032] Trial 47 finished with value: 0.3957281996858932 and parameters: {'n_estimators': 413, 'learning_rate': 0.11165730207928168, 'max_depth': 6, 'subsample': 0.9117375271675354, 'colsample_bytree': 0.8879446900828114, 'reg_alpha': 0.5696242318418767, 'reg_lambda': 3.3543746784590014, 'min_child_weight': 5.674340590549157}. Best is trial 43 with value: 0.3321900933897034.\n",
      "[I 2024-12-11 19:04:37,449] Trial 48 finished with value: 0.35890286526043363 and parameters: {'n_estimators': 388, 'learning_rate': 0.0922050897411735, 'max_depth': 9, 'subsample': 0.9711787981207597, 'colsample_bytree': 0.5566556637253595, 'reg_alpha': 1.3710025190972854, 'reg_lambda': 4.645248976812532, 'min_child_weight': 7.198413552485264}. Best is trial 43 with value: 0.3321900933897034.\n",
      "[I 2024-12-11 19:04:40,742] Trial 49 finished with value: 0.34666617318762777 and parameters: {'n_estimators': 302, 'learning_rate': 0.0627672551960892, 'max_depth': 10, 'subsample': 0.9376643712566258, 'colsample_bytree': 0.8231714850970409, 'reg_alpha': 0.014608368463442822, 'reg_lambda': 3.8959340763935644, 'min_child_weight': 1.9855808792396683}. Best is trial 43 with value: 0.3321900933897034.\n",
      "[I 2024-12-11 19:04:44,557] Trial 50 finished with value: 0.3734601904076757 and parameters: {'n_estimators': 478, 'learning_rate': 0.04627726634776741, 'max_depth': 8, 'subsample': 0.8578724986153445, 'colsample_bytree': 0.910109791699232, 'reg_alpha': 3.0169664632619564, 'reg_lambda': 8.435725306691644, 'min_child_weight': 5.265747852050245}. Best is trial 43 with value: 0.3321900933897034.\n",
      "[I 2024-12-11 19:04:49,599] Trial 51 finished with value: 0.33433248225518103 and parameters: {'n_estimators': 456, 'learning_rate': 0.14978026795623475, 'max_depth': 10, 'subsample': 0.8846586969677022, 'colsample_bytree': 0.9606059895559632, 'reg_alpha': 0.7822242743913365, 'reg_lambda': 2.3579975961798185, 'min_child_weight': 6.358305795492136}. Best is trial 43 with value: 0.3321900933897034.\n",
      "[I 2024-12-11 19:04:55,087] Trial 52 finished with value: 0.33129113177609965 and parameters: {'n_estimators': 485, 'learning_rate': 0.12233297743204333, 'max_depth': 10, 'subsample': 0.9604104071033375, 'colsample_bytree': 0.9066472055024949, 'reg_alpha': 2.098048362465714, 'reg_lambda': 0.5943034598503161, 'min_child_weight': 6.280481437590769}. Best is trial 52 with value: 0.33129113177609965.\n",
      "[I 2024-12-11 19:04:59,909] Trial 53 finished with value: 0.335496784058121 and parameters: {'n_estimators': 444, 'learning_rate': 0.11303875070081174, 'max_depth': 10, 'subsample': 0.9634010518630933, 'colsample_bytree': 0.7075317472133764, 'reg_alpha': 2.0496856369934617, 'reg_lambda': 0.48192373200677396, 'min_child_weight': 7.20924447015591}. Best is trial 52 with value: 0.33129113177609965.\n",
      "[I 2024-12-11 19:05:04,415] Trial 54 finished with value: 0.34022336859765967 and parameters: {'n_estimators': 484, 'learning_rate': 0.0820324971773789, 'max_depth': 9, 'subsample': 0.9134707882136436, 'colsample_bytree': 0.8527495112571222, 'reg_alpha': 1.34472572439577, 'reg_lambda': 0.9473980448329042, 'min_child_weight': 5.0694453748447685}. Best is trial 52 with value: 0.33129113177609965.\n",
      "[I 2024-12-11 19:05:08,939] Trial 55 finished with value: 0.3336133365795863 and parameters: {'n_estimators': 416, 'learning_rate': 0.09960630261149399, 'max_depth': 10, 'subsample': 0.9478584633222966, 'colsample_bytree': 0.8807684611104873, 'reg_alpha': 0.38794375179710694, 'reg_lambda': 2.73551894327711, 'min_child_weight': 5.6884092002884215}. Best is trial 52 with value: 0.33129113177609965.\n",
      "[I 2024-12-11 19:05:09,599] Trial 56 finished with value: 0.656500727314101 and parameters: {'n_estimators': 170, 'learning_rate': 0.11561198666441196, 'max_depth': 3, 'subsample': 0.9795547154427143, 'colsample_bytree': 0.805310149336389, 'reg_alpha': 1.2001841191088123, 'reg_lambda': 1.1794210564115366, 'min_child_weight': 6.5601000999449655}. Best is trial 52 with value: 0.33129113177609965.\n",
      "[I 2024-12-11 19:05:15,022] Trial 57 finished with value: 0.33397394609623304 and parameters: {'n_estimators': 492, 'learning_rate': 0.15015420638303223, 'max_depth': 10, 'subsample': 0.8139313529540468, 'colsample_bytree': 0.9705906926293337, 'reg_alpha': 2.322258705039759, 'reg_lambda': 0.6351832242081454, 'min_child_weight': 6.889716026299947}. Best is trial 52 with value: 0.33129113177609965.\n",
      "[I 2024-12-11 19:05:19,513] Trial 58 finished with value: 0.33657181619241927 and parameters: {'n_estimators': 482, 'learning_rate': 0.17017949226333887, 'max_depth': 9, 'subsample': 0.8982826105549557, 'colsample_bytree': 0.9036936783421359, 'reg_alpha': 0.4680113130816535, 'reg_lambda': 1.7307483162506816, 'min_child_weight': 4.632706365417039}. Best is trial 52 with value: 0.33129113177609965.\n",
      "[I 2024-12-11 19:05:24,304] Trial 59 finished with value: 0.3325467917762826 and parameters: {'n_estimators': 440, 'learning_rate': 0.10684730300969682, 'max_depth': 10, 'subsample': 0.9616969261377251, 'colsample_bytree': 0.9161498140443631, 'reg_alpha': 1.666573549127032, 'reg_lambda': 2.246992853111441, 'min_child_weight': 8.484338524373863}. Best is trial 52 with value: 0.33129113177609965.\n",
      "[I 2024-12-11 19:05:26,233] Trial 60 finished with value: 0.513106043416868 and parameters: {'n_estimators': 443, 'learning_rate': 0.09031466871518747, 'max_depth': 4, 'subsample': 0.9592943196933925, 'colsample_bytree': 0.9193160499159547, 'reg_alpha': 2.8139698337219845, 'reg_lambda': 3.0831688236831907, 'min_child_weight': 8.315960980426421}. Best is trial 52 with value: 0.33129113177609965.\n",
      "[I 2024-12-11 19:05:30,896] Trial 61 finished with value: 0.3330682184258299 and parameters: {'n_estimators': 429, 'learning_rate': 0.10697624468537814, 'max_depth': 10, 'subsample': 0.9366135746244998, 'colsample_bytree': 0.9030668191319711, 'reg_alpha': 1.6987894744610397, 'reg_lambda': 2.221973012579295, 'min_child_weight': 8.896141670002704}. Best is trial 52 with value: 0.33129113177609965.\n",
      "[I 2024-12-11 19:05:35,394] Trial 62 finished with value: 0.336505479914571 and parameters: {'n_estimators': 423, 'learning_rate': 0.07252541975784182, 'max_depth': 10, 'subsample': 0.9824615383656805, 'colsample_bytree': 0.8510877268634651, 'reg_alpha': 1.6407584508552338, 'reg_lambda': 2.5596106958537823, 'min_child_weight': 9.388912511489815}. Best is trial 52 with value: 0.33129113177609965.\n",
      "[I 2024-12-11 19:05:39,113] Trial 63 finished with value: 0.34325006221498133 and parameters: {'n_estimators': 404, 'learning_rate': 0.09790453174653858, 'max_depth': 9, 'subsample': 0.9276078652199786, 'colsample_bytree': 0.8688711935840352, 'reg_alpha': 3.7482495301507925, 'reg_lambda': 0.37200724842917676, 'min_child_weight': 8.82818731182253}. Best is trial 52 with value: 0.33129113177609965.\n",
      "[I 2024-12-11 19:05:43,068] Trial 64 finished with value: 0.33476021590912775 and parameters: {'n_estimators': 370, 'learning_rate': 0.11205186676714686, 'max_depth': 10, 'subsample': 0.9371310286334028, 'colsample_bytree': 0.8987720983599523, 'reg_alpha': 2.178876814643398, 'reg_lambda': 3.9234396754253567, 'min_child_weight': 8.584045268331037}. Best is trial 52 with value: 0.33129113177609965.\n",
      "[I 2024-12-11 19:05:47,320] Trial 65 finished with value: 0.33275223860861136 and parameters: {'n_estimators': 394, 'learning_rate': 0.10696888780672911, 'max_depth': 10, 'subsample': 0.9603904811483394, 'colsample_bytree': 0.9282737226213604, 'reg_alpha': 1.131734718077344, 'reg_lambda': 4.272693774141236, 'min_child_weight': 7.3808300866567444}. Best is trial 52 with value: 0.33129113177609965.\n",
      "[I 2024-12-11 19:05:51,000] Trial 66 finished with value: 0.34253798125463675 and parameters: {'n_estimators': 397, 'learning_rate': 0.10392822701163638, 'max_depth': 9, 'subsample': 0.9544811024327903, 'colsample_bytree': 0.8842990223222614, 'reg_alpha': 2.6465456735490274, 'reg_lambda': 4.967868162041386, 'min_child_weight': 9.5833025965586}. Best is trial 52 with value: 0.33129113177609965.\n",
      "[I 2024-12-11 19:05:55,707] Trial 67 finished with value: 0.33476618488402327 and parameters: {'n_estimators': 425, 'learning_rate': 0.08239999115231678, 'max_depth': 10, 'subsample': 0.9011791252803383, 'colsample_bytree': 0.931649370093593, 'reg_alpha': 1.1691159901526464, 'reg_lambda': 4.298249010722782, 'min_child_weight': 8.003483140740288}. Best is trial 52 with value: 0.33129113177609965.\n",
      "[I 2024-12-11 19:06:01,441] Trial 68 finished with value: 0.3357001253093537 and parameters: {'n_estimators': 500, 'learning_rate': 0.12963695306289696, 'max_depth': 10, 'subsample': 0.7090924281858507, 'colsample_bytree': 0.993246443853011, 'reg_alpha': 1.9595943346380778, 'reg_lambda': 3.744302836432808, 'min_child_weight': 7.386603316245454}. Best is trial 52 with value: 0.33129113177609965.\n",
      "[I 2024-12-11 19:06:04,609] Trial 69 finished with value: 0.3846232523232064 and parameters: {'n_estimators': 452, 'learning_rate': 0.06672016025726261, 'max_depth': 7, 'subsample': 0.9208970534866386, 'colsample_bytree': 0.9717051268357919, 'reg_alpha': 5.29174846376721, 'reg_lambda': 4.367748735262822, 'min_child_weight': 8.180822550290747}. Best is trial 52 with value: 0.33129113177609965.\n",
      "[I 2024-12-11 19:06:09,000] Trial 70 finished with value: 0.3590211013069521 and parameters: {'n_estimators': 472, 'learning_rate': 0.04250023825357439, 'max_depth': 9, 'subsample': 0.9639031447633322, 'colsample_bytree': 0.9068023471615944, 'reg_alpha': 0.33527988541540094, 'reg_lambda': 3.2464062511278127, 'min_child_weight': 9.07457268024881}. Best is trial 52 with value: 0.33129113177609965.\n",
      "[I 2024-12-11 19:06:13,878] Trial 71 finished with value: 0.33143218496078175 and parameters: {'n_estimators': 437, 'learning_rate': 0.12096264852809527, 'max_depth': 10, 'subsample': 0.9868625116290086, 'colsample_bytree': 0.9262617578863279, 'reg_alpha': 1.6848503735425293, 'reg_lambda': 0.9243703384355766, 'min_child_weight': 6.772103172627102}. Best is trial 52 with value: 0.33129113177609965.\n",
      "[I 2024-12-11 19:06:18,757] Trial 72 finished with value: 0.33161358918129535 and parameters: {'n_estimators': 436, 'learning_rate': 0.1200713476435892, 'max_depth': 10, 'subsample': 0.9895301070558609, 'colsample_bytree': 0.9350646399510272, 'reg_alpha': 1.7339873673255615, 'reg_lambda': 0.7495330017634512, 'min_child_weight': 7.988208109739173}. Best is trial 52 with value: 0.33129113177609965.\n",
      "[I 2024-12-11 19:06:23,829] Trial 73 finished with value: 0.3313221290054457 and parameters: {'n_estimators': 461, 'learning_rate': 0.1201027364475856, 'max_depth': 10, 'subsample': 0.9920677783447953, 'colsample_bytree': 0.9376824704792109, 'reg_alpha': 1.13283434951897, 'reg_lambda': 0.8042256428110064, 'min_child_weight': 6.770010557820719}. Best is trial 52 with value: 0.33129113177609965.\n",
      "[I 2024-12-11 19:06:28,963] Trial 74 finished with value: 0.33169025037111016 and parameters: {'n_estimators': 462, 'learning_rate': 0.13145526354152212, 'max_depth': 10, 'subsample': 0.9896456158696648, 'colsample_bytree': 0.9415321956333076, 'reg_alpha': 1.0316589136308556, 'reg_lambda': 0.9105787086201096, 'min_child_weight': 6.830907503442985}. Best is trial 52 with value: 0.33129113177609965.\n",
      "[I 2024-12-11 19:06:34,108] Trial 75 finished with value: 0.3314584434781991 and parameters: {'n_estimators': 461, 'learning_rate': 0.11964225233350229, 'max_depth': 10, 'subsample': 0.9906397594044277, 'colsample_bytree': 0.9438094991049027, 'reg_alpha': 2.3027266949112146, 'reg_lambda': 0.765678422059614, 'min_child_weight': 6.763547606964178}. Best is trial 52 with value: 0.33129113177609965.\n",
      "[I 2024-12-11 19:06:39,322] Trial 76 finished with value: 0.33105737823271414 and parameters: {'n_estimators': 464, 'learning_rate': 0.12343937179338235, 'max_depth': 10, 'subsample': 0.9915193256389228, 'colsample_bytree': 0.9421410138603712, 'reg_alpha': 2.2184078984848417, 'reg_lambda': 0.7303078458751475, 'min_child_weight': 6.8421822919877435}. Best is trial 76 with value: 0.33105737823271414.\n",
      "[I 2024-12-11 19:06:43,982] Trial 77 finished with value: 0.33551704088696105 and parameters: {'n_estimators': 487, 'learning_rate': 0.12009135485442135, 'max_depth': 9, 'subsample': 0.9906236284119331, 'colsample_bytree': 0.939724148558993, 'reg_alpha': 2.3440764862579306, 'reg_lambda': 0.7115405958453072, 'min_child_weight': 6.867603598226694}. Best is trial 76 with value: 0.33105737823271414.\n",
      "[I 2024-12-11 19:06:49,294] Trial 78 finished with value: 0.33114269920589584 and parameters: {'n_estimators': 462, 'learning_rate': 0.13350066069901972, 'max_depth': 10, 'subsample': 0.9899274982835987, 'colsample_bytree': 0.9775700832207174, 'reg_alpha': 3.1058432732197616, 'reg_lambda': 0.12389159654524251, 'min_child_weight': 5.920140081956461}. Best is trial 76 with value: 0.33105737823271414.\n",
      "[I 2024-12-11 19:06:54,495] Trial 79 finished with value: 0.33042224450191815 and parameters: {'n_estimators': 463, 'learning_rate': 0.14298406341028952, 'max_depth': 10, 'subsample': 0.9968905593933074, 'colsample_bytree': 0.9803447111923653, 'reg_alpha': 3.188300142544476, 'reg_lambda': 0.046454039589115634, 'min_child_weight': 5.843940277711304}. Best is trial 79 with value: 0.33042224450191815.\n",
      "[I 2024-12-11 19:06:59,088] Trial 80 finished with value: 0.33436009904088054 and parameters: {'n_estimators': 476, 'learning_rate': 0.1574475090290618, 'max_depth': 9, 'subsample': 0.9985417194570769, 'colsample_bytree': 0.9988646642866493, 'reg_alpha': 4.039064514791672, 'reg_lambda': 0.04659767490389711, 'min_child_weight': 5.800472216036826}. Best is trial 79 with value: 0.33042224450191815.\n",
      "[I 2024-12-11 19:07:04,464] Trial 81 finished with value: 0.33059923375447736 and parameters: {'n_estimators': 464, 'learning_rate': 0.13390712101838595, 'max_depth': 10, 'subsample': 0.9870709893313401, 'colsample_bytree': 0.978870232725231, 'reg_alpha': 3.0577037565980403, 'reg_lambda': 0.904665328087982, 'min_child_weight': 6.9976168927460565}. Best is trial 79 with value: 0.33042224450191815.\n",
      "[I 2024-12-11 19:07:09,819] Trial 82 finished with value: 0.3313271112479959 and parameters: {'n_estimators': 466, 'learning_rate': 0.14629141843581728, 'max_depth': 10, 'subsample': 0.9820880213322686, 'colsample_bytree': 0.9730860788221314, 'reg_alpha': 3.2468444482983703, 'reg_lambda': 0.2501424918907868, 'min_child_weight': 6.322467710084948}. Best is trial 79 with value: 0.33042224450191815.\n",
      "[I 2024-12-11 19:07:15,451] Trial 83 finished with value: 0.33019268937263824 and parameters: {'n_estimators': 489, 'learning_rate': 0.14505379052571812, 'max_depth': 10, 'subsample': 0.9993021152392744, 'colsample_bytree': 0.983940140912072, 'reg_alpha': 3.1889608047138616, 'reg_lambda': 0.2844808029555893, 'min_child_weight': 6.1549588527127295}. Best is trial 83 with value: 0.33019268937263824.\n",
      "[I 2024-12-11 19:07:21,060] Trial 84 finished with value: 0.33057469229279074 and parameters: {'n_estimators': 490, 'learning_rate': 0.14224333461769217, 'max_depth': 10, 'subsample': 0.9716011733374197, 'colsample_bytree': 0.9763290208608162, 'reg_alpha': 3.2780707888156932, 'reg_lambda': 0.26160450709062616, 'min_child_weight': 6.134840505073706}. Best is trial 83 with value: 0.33019268937263824.\n",
      "[I 2024-12-11 19:07:26,602] Trial 85 finished with value: 0.33060925693685783 and parameters: {'n_estimators': 484, 'learning_rate': 0.1431657595810234, 'max_depth': 10, 'subsample': 0.97262636803637, 'colsample_bytree': 0.9788449553736788, 'reg_alpha': 3.2265599720892495, 'reg_lambda': 0.15116877274175525, 'min_child_weight': 5.9539479065801375}. Best is trial 83 with value: 0.33019268937263824.\n",
      "[I 2024-12-11 19:07:32,341] Trial 86 finished with value: 0.3374712289575836 and parameters: {'n_estimators': 491, 'learning_rate': 0.13979208214353545, 'max_depth': 10, 'subsample': 0.5998135713364314, 'colsample_bytree': 0.9884926267426621, 'reg_alpha': 3.825285478430858, 'reg_lambda': 0.3984607545543359, 'min_child_weight': 5.957338220645504}. Best is trial 83 with value: 0.33019268937263824.\n",
      "[I 2024-12-11 19:07:38,691] Trial 87 finished with value: 0.33450315424122695 and parameters: {'n_estimators': 498, 'learning_rate': 0.13381223661233788, 'max_depth': 9, 'subsample': 0.9720844238101289, 'colsample_bytree': 0.9562983839687069, 'reg_alpha': 3.457098052118327, 'reg_lambda': 0.05569651315368232, 'min_child_weight': 6.1211396460807865}. Best is trial 83 with value: 0.33019268937263824.\n",
      "[I 2024-12-11 19:07:45,438] Trial 88 finished with value: 0.3319934464847649 and parameters: {'n_estimators': 484, 'learning_rate': 0.16121609772286916, 'max_depth': 10, 'subsample': 0.9471770856626816, 'colsample_bytree': 0.9813279026913242, 'reg_alpha': 3.004697777926485, 'reg_lambda': 1.157729825381372, 'min_child_weight': 5.228957787074185}. Best is trial 83 with value: 0.33019268937263824.\n",
      "[I 2024-12-11 19:07:51,482] Trial 89 finished with value: 0.33139586761278855 and parameters: {'n_estimators': 471, 'learning_rate': 0.1442264004458007, 'max_depth': 10, 'subsample': 0.9723878652380594, 'colsample_bytree': 0.9660183503833323, 'reg_alpha': 4.4548416034978375, 'reg_lambda': 0.47203418386432233, 'min_child_weight': 5.857597352395936}. Best is trial 83 with value: 0.33019268937263824.\n",
      "[I 2024-12-11 19:07:56,982] Trial 90 finished with value: 0.33754236485244715 and parameters: {'n_estimators': 482, 'learning_rate': 0.1536657718868387, 'max_depth': 9, 'subsample': 0.7630528844547303, 'colsample_bytree': 0.9989950154517598, 'reg_alpha': 2.618916267033667, 'reg_lambda': 0.30223486336020433, 'min_child_weight': 7.057531639736394}. Best is trial 83 with value: 0.33019268937263824.\n",
      "[I 2024-12-11 19:08:03,611] Trial 91 finished with value: 0.3315674384303579 and parameters: {'n_estimators': 469, 'learning_rate': 0.14667086957776368, 'max_depth': 10, 'subsample': 0.977762985547766, 'colsample_bytree': 0.9762334339126485, 'reg_alpha': 3.2722641668306283, 'reg_lambda': 0.2833321748856445, 'min_child_weight': 6.281488974749248}. Best is trial 83 with value: 0.33019268937263824.\n",
      "[I 2024-12-11 19:08:09,405] Trial 92 finished with value: 0.33071586130127384 and parameters: {'n_estimators': 453, 'learning_rate': 0.14256352244141432, 'max_depth': 10, 'subsample': 0.9973424108889131, 'colsample_bytree': 0.9574845652695918, 'reg_alpha': 3.0392816622420433, 'reg_lambda': 0.01465440583423444, 'min_child_weight': 5.487439460490539}. Best is trial 83 with value: 0.33019268937263824.\n",
      "[I 2024-12-11 19:08:15,414] Trial 93 finished with value: 0.33049133759463367 and parameters: {'n_estimators': 491, 'learning_rate': 0.12810983421453145, 'max_depth': 10, 'subsample': 0.9973216390228293, 'colsample_bytree': 0.9566784593924526, 'reg_alpha': 2.9595468120942416, 'reg_lambda': 0.5498168812199145, 'min_child_weight': 5.427470404519829}. Best is trial 83 with value: 0.33019268937263824.\n",
      "[I 2024-12-11 19:08:22,255] Trial 94 finished with value: 0.33077138865035594 and parameters: {'n_estimators': 490, 'learning_rate': 0.1721642063220335, 'max_depth': 10, 'subsample': 0.9992551287358524, 'colsample_bytree': 0.9581777794541659, 'reg_alpha': 2.8916322132127195, 'reg_lambda': 0.5526025571461274, 'min_child_weight': 5.449653487162345}. Best is trial 83 with value: 0.33019268937263824.\n",
      "[I 2024-12-11 19:08:29,272] Trial 95 finished with value: 0.3305720783566064 and parameters: {'n_estimators': 500, 'learning_rate': 0.13953335216815677, 'max_depth': 10, 'subsample': 0.9995403713816087, 'colsample_bytree': 0.9833162107903156, 'reg_alpha': 2.8293020101761073, 'reg_lambda': 1.174001782159692, 'min_child_weight': 5.315698659457137}. Best is trial 83 with value: 0.33019268937263824.\n",
      "[I 2024-12-11 19:08:36,460] Trial 96 finished with value: 0.3304322573886586 and parameters: {'n_estimators': 500, 'learning_rate': 0.18167808148457543, 'max_depth': 10, 'subsample': 0.9998180000349512, 'colsample_bytree': 0.9543694722767554, 'reg_alpha': 3.5302310552088834, 'reg_lambda': 1.2104724837286402, 'min_child_weight': 5.450940461622523}. Best is trial 83 with value: 0.33019268937263824.\n",
      "[I 2024-12-11 19:08:42,947] Trial 97 finished with value: 0.33203158097445845 and parameters: {'n_estimators': 488, 'learning_rate': 0.17626228310087166, 'max_depth': 10, 'subsample': 0.9696966164358178, 'colsample_bytree': 0.9574860379591519, 'reg_alpha': 2.8268286575770833, 'reg_lambda': 1.5923770830404318, 'min_child_weight': 4.967130589808831}. Best is trial 83 with value: 0.33019268937263824.\n",
      "[I 2024-12-11 19:08:49,585] Trial 98 finished with value: 0.32993868338346266 and parameters: {'n_estimators': 496, 'learning_rate': 0.15652726231105363, 'max_depth': 10, 'subsample': 0.9999039235672917, 'colsample_bytree': 0.9876390461038836, 'reg_alpha': 3.5550254143041466, 'reg_lambda': 1.3191920835605098, 'min_child_weight': 5.413765348384642}. Best is trial 98 with value: 0.32993868338346266.\n",
      "[I 2024-12-11 19:08:55,312] Trial 99 finished with value: 0.3344501184655304 and parameters: {'n_estimators': 500, 'learning_rate': 0.1630154134002991, 'max_depth': 9, 'subsample': 0.9481573362714444, 'colsample_bytree': 0.9877411539696657, 'reg_alpha': 3.5894873461340806, 'reg_lambda': 1.1737716936312959, 'min_child_weight': 4.404428060111484}. Best is trial 98 with value: 0.32993868338346266.\n"
     ]
    },
    {
     "name": "stdout",
     "output_type": "stream",
     "text": [
      "Best Parameters: {'n_estimators': 496, 'learning_rate': 0.15652726231105363, 'max_depth': 10, 'subsample': 0.9999039235672917, 'colsample_bytree': 0.9876390461038836, 'reg_alpha': 3.5550254143041466, 'reg_lambda': 1.3191920835605098, 'min_child_weight': 5.413765348384642}\n",
      "Best RMSE: 0.32993868338346266\n"
     ]
    }
   ],
   "source": [
    "# Define the Optuna objective function\n",
    "def objective(trial):\n",
    "    param = {\n",
    "        \"n_estimators\": trial.suggest_int(\"n_estimators\", 100, 500),\n",
    "        \"learning_rate\": trial.suggest_float(\"learning_rate\", 0.01, 0.3),\n",
    "        \"max_depth\": trial.suggest_int(\"max_depth\", 3, 10),\n",
    "        \"subsample\": trial.suggest_float(\"subsample\", 0.5, 1.0),\n",
    "        \"colsample_bytree\": trial.suggest_float(\"colsample_bytree\", 0.5, 1.0),\n",
    "        \"reg_alpha\": trial.suggest_float(\"reg_alpha\", 1e-8, 10.0),\n",
    "        \"reg_lambda\": trial.suggest_float(\"reg_lambda\", 1e-8, 10.0),\n",
    "        \"min_child_weight\": trial.suggest_float(\"min_child_weight\", 1e-8, 10.0),\n",
    "    }\n",
    "\n",
    "    model = xgb.XGBRegressor(**param, random_state=42)\n",
    "    model.fit(X_train_split, y_train_split)\n",
    "\n",
    "    y_pred = model.predict(X_val_split)\n",
    "\n",
    "    rmse = np.sqrt(mean_squared_error(y_val_split, y_pred))\n",
    "    return rmse\n",
    "\n",
    "#We create an Optuna study and optimize\n",
    "study = optuna.create_study(direction=\"minimize\")\n",
    "study.optimize(objective, n_trials=100, timeout=1200)\n",
    "\n",
    "print(\"Best Parameters:\", study.best_params)\n",
    "print(\"Best RMSE:\", study.best_value)"
   ]
  },
  {
   "cell_type": "code",
   "execution_count": 59,
   "metadata": {},
   "outputs": [],
   "source": [
    "#We train the final model with the best parameters on the full dataset\n",
    "best_params = study.best_params\n",
    "best_model = xgb.XGBRegressor(**best_params, random_state=42)\n",
    "best_model.fit(X_train, y_train)\n",
    "\n",
    "#And finally, we predict on the test set\n",
    "y_predictions = best_model.predict(X_test)\n",
    "\n"
   ]
  },
  {
   "cell_type": "code",
   "execution_count": 60,
   "metadata": {},
   "outputs": [
    {
     "name": "stdout",
     "output_type": "stream",
     "text": [
      "[0.32456642 1.7795744  2.1025586  ... 5.3862453  5.1704426  3.6177971 ]\n"
     ]
    }
   ],
   "source": [
    "print(y_predictions)"
   ]
  },
  {
   "cell_type": "code",
   "execution_count": 61,
   "metadata": {},
   "outputs": [],
   "source": [
    "pd.DataFrame(y_predictions, columns=[\"log_bike_count\"]).reset_index().rename(\n",
    "    columns={\"index\": \"Id\"}\n",
    ").to_csv(\"/Users/louisleibovici/Documents/VS_Code/Bike_counters DSB Project/bike_counters/predictions_XGBoost_Optuna_sanspipeline.csv\", index=False)"
   ]
  }
 ],
 "metadata": {
  "kernelspec": {
   "display_name": "base",
   "language": "python",
   "name": "python3"
  },
  "language_info": {
   "codemirror_mode": {
    "name": "ipython",
    "version": 3
   },
   "file_extension": ".py",
   "mimetype": "text/x-python",
   "name": "python",
   "nbconvert_exporter": "python",
   "pygments_lexer": "ipython3",
   "version": "3.12.0"
  }
 },
 "nbformat": 4,
 "nbformat_minor": 2
}
